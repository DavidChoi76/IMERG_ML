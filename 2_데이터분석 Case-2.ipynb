{
 "cells": [
  {
   "cell_type": "markdown",
   "id": "f9403a2b",
   "metadata": {},
   "source": [
    "# Stations vs IMERG Observation 데이터 분석"
   ]
  },
  {
   "cell_type": "markdown",
   "id": "7ee7ae4f",
   "metadata": {},
   "source": [
    "## 1.  [GPM관측 데이터 - 지상관측] DataFrame 생성"
   ]
  },
  {
   "cell_type": "code",
   "execution_count": 1,
   "id": "471da42a",
   "metadata": {},
   "outputs": [
    {
     "data": {
      "text/html": [
       "<div>\n",
       "<style scoped>\n",
       "    .dataframe tbody tr th:only-of-type {\n",
       "        vertical-align: middle;\n",
       "    }\n",
       "\n",
       "    .dataframe tbody tr th {\n",
       "        vertical-align: top;\n",
       "    }\n",
       "\n",
       "    .dataframe thead th {\n",
       "        text-align: right;\n",
       "    }\n",
       "</style>\n",
       "<table border=\"1\" class=\"dataframe\">\n",
       "  <thead>\n",
       "    <tr style=\"text-align: right;\">\n",
       "      <th></th>\n",
       "      <th>date</th>\n",
       "      <th>4001430</th>\n",
       "      <th>4001440</th>\n",
       "      <th>4001450</th>\n",
       "      <th>4003420</th>\n",
       "      <th>4007450</th>\n",
       "      <th>4007470</th>\n",
       "      <th>4007472</th>\n",
       "      <th>4007474</th>\n",
       "      <th>4009460</th>\n",
       "      <th>...</th>\n",
       "      <th>4001450_gpm</th>\n",
       "      <th>4003420_gpm</th>\n",
       "      <th>4007450_gpm</th>\n",
       "      <th>4007470_gpm</th>\n",
       "      <th>4007472_gpm</th>\n",
       "      <th>4007474_gpm</th>\n",
       "      <th>4009460_gpm</th>\n",
       "      <th>9000140_gpm</th>\n",
       "      <th>9000233_gpm</th>\n",
       "      <th>9000234_gpm</th>\n",
       "    </tr>\n",
       "  </thead>\n",
       "  <tbody>\n",
       "    <tr>\n",
       "      <th>0</th>\n",
       "      <td>2014-10-01 01:00:00</td>\n",
       "      <td>0.0</td>\n",
       "      <td>0.0</td>\n",
       "      <td>0.0</td>\n",
       "      <td>0.0</td>\n",
       "      <td>0.0</td>\n",
       "      <td>0.0</td>\n",
       "      <td>0.0</td>\n",
       "      <td>0.0</td>\n",
       "      <td>0.0</td>\n",
       "      <td>...</td>\n",
       "      <td>0.0</td>\n",
       "      <td>0.0</td>\n",
       "      <td>0.0</td>\n",
       "      <td>0.0</td>\n",
       "      <td>0.0</td>\n",
       "      <td>0.0</td>\n",
       "      <td>0.0</td>\n",
       "      <td>0.0</td>\n",
       "      <td>0.0</td>\n",
       "      <td>0.0</td>\n",
       "    </tr>\n",
       "    <tr>\n",
       "      <th>1</th>\n",
       "      <td>2014-10-01 02:00:00</td>\n",
       "      <td>0.0</td>\n",
       "      <td>0.0</td>\n",
       "      <td>0.0</td>\n",
       "      <td>0.0</td>\n",
       "      <td>0.0</td>\n",
       "      <td>0.0</td>\n",
       "      <td>0.0</td>\n",
       "      <td>0.0</td>\n",
       "      <td>0.0</td>\n",
       "      <td>...</td>\n",
       "      <td>0.0</td>\n",
       "      <td>0.0</td>\n",
       "      <td>0.0</td>\n",
       "      <td>0.0</td>\n",
       "      <td>0.0</td>\n",
       "      <td>0.0</td>\n",
       "      <td>0.0</td>\n",
       "      <td>0.0</td>\n",
       "      <td>0.0</td>\n",
       "      <td>0.0</td>\n",
       "    </tr>\n",
       "    <tr>\n",
       "      <th>2</th>\n",
       "      <td>2014-10-01 03:00:00</td>\n",
       "      <td>0.0</td>\n",
       "      <td>0.0</td>\n",
       "      <td>0.0</td>\n",
       "      <td>0.0</td>\n",
       "      <td>0.0</td>\n",
       "      <td>0.0</td>\n",
       "      <td>0.0</td>\n",
       "      <td>0.0</td>\n",
       "      <td>0.0</td>\n",
       "      <td>...</td>\n",
       "      <td>0.0</td>\n",
       "      <td>0.0</td>\n",
       "      <td>0.0</td>\n",
       "      <td>0.0</td>\n",
       "      <td>0.0</td>\n",
       "      <td>0.0</td>\n",
       "      <td>0.0</td>\n",
       "      <td>0.0</td>\n",
       "      <td>0.0</td>\n",
       "      <td>0.0</td>\n",
       "    </tr>\n",
       "    <tr>\n",
       "      <th>3</th>\n",
       "      <td>2014-10-01 04:00:00</td>\n",
       "      <td>0.0</td>\n",
       "      <td>0.0</td>\n",
       "      <td>1.0</td>\n",
       "      <td>0.0</td>\n",
       "      <td>0.0</td>\n",
       "      <td>0.0</td>\n",
       "      <td>0.0</td>\n",
       "      <td>0.0</td>\n",
       "      <td>0.0</td>\n",
       "      <td>...</td>\n",
       "      <td>0.0</td>\n",
       "      <td>0.0</td>\n",
       "      <td>0.0</td>\n",
       "      <td>0.0</td>\n",
       "      <td>0.0</td>\n",
       "      <td>0.0</td>\n",
       "      <td>0.0</td>\n",
       "      <td>0.0</td>\n",
       "      <td>0.0</td>\n",
       "      <td>0.0</td>\n",
       "    </tr>\n",
       "    <tr>\n",
       "      <th>4</th>\n",
       "      <td>2014-10-01 05:00:00</td>\n",
       "      <td>0.0</td>\n",
       "      <td>0.0</td>\n",
       "      <td>0.0</td>\n",
       "      <td>0.0</td>\n",
       "      <td>0.0</td>\n",
       "      <td>0.0</td>\n",
       "      <td>0.0</td>\n",
       "      <td>0.0</td>\n",
       "      <td>0.0</td>\n",
       "      <td>...</td>\n",
       "      <td>0.0</td>\n",
       "      <td>0.0</td>\n",
       "      <td>0.0</td>\n",
       "      <td>0.0</td>\n",
       "      <td>0.0</td>\n",
       "      <td>0.0</td>\n",
       "      <td>0.0</td>\n",
       "      <td>0.0</td>\n",
       "      <td>0.0</td>\n",
       "      <td>0.0</td>\n",
       "    </tr>\n",
       "  </tbody>\n",
       "</table>\n",
       "<p>5 rows × 25 columns</p>\n",
       "</div>"
      ],
      "text/plain": [
       "                  date  4001430  4001440  4001450  4003420  4007450  4007470  \\\n",
       "0  2014-10-01 01:00:00      0.0      0.0      0.0      0.0      0.0      0.0   \n",
       "1  2014-10-01 02:00:00      0.0      0.0      0.0      0.0      0.0      0.0   \n",
       "2  2014-10-01 03:00:00      0.0      0.0      0.0      0.0      0.0      0.0   \n",
       "3  2014-10-01 04:00:00      0.0      0.0      1.0      0.0      0.0      0.0   \n",
       "4  2014-10-01 05:00:00      0.0      0.0      0.0      0.0      0.0      0.0   \n",
       "\n",
       "   4007472  4007474  4009460  ...  4001450_gpm  4003420_gpm  4007450_gpm  \\\n",
       "0      0.0      0.0      0.0  ...          0.0          0.0          0.0   \n",
       "1      0.0      0.0      0.0  ...          0.0          0.0          0.0   \n",
       "2      0.0      0.0      0.0  ...          0.0          0.0          0.0   \n",
       "3      0.0      0.0      0.0  ...          0.0          0.0          0.0   \n",
       "4      0.0      0.0      0.0  ...          0.0          0.0          0.0   \n",
       "\n",
       "   4007470_gpm  4007472_gpm  4007474_gpm  4009460_gpm  9000140_gpm  \\\n",
       "0          0.0          0.0          0.0          0.0          0.0   \n",
       "1          0.0          0.0          0.0          0.0          0.0   \n",
       "2          0.0          0.0          0.0          0.0          0.0   \n",
       "3          0.0          0.0          0.0          0.0          0.0   \n",
       "4          0.0          0.0          0.0          0.0          0.0   \n",
       "\n",
       "   9000233_gpm  9000234_gpm  \n",
       "0          0.0          0.0  \n",
       "1          0.0          0.0  \n",
       "2          0.0          0.0  \n",
       "3          0.0          0.0  \n",
       "4          0.0          0.0  \n",
       "\n",
       "[5 rows x 25 columns]"
      ]
     },
     "execution_count": 1,
     "metadata": {},
     "output_type": "execute_result"
    }
   ],
   "source": [
    "import pandas as pd\n",
    "import seaborn as sns\n",
    "import matplotlib.pyplot as plt\n",
    "# 지상관측과 GPM 데이터 원본자료 불러오기\n",
    "raw_hourly_df = pd.read_csv(\"sj_hourly_rainfall_case2.csv\")\n",
    "raw_hourly_df.head()"
   ]
  },
  {
   "cell_type": "code",
   "execution_count": 2,
   "id": "4f9ca9e3",
   "metadata": {},
   "outputs": [
    {
     "data": {
      "text/plain": [
       "Index(['4001430', '4001440', '4001450', '4003420', '4007450', '4007470',\n",
       "       '4007472', '4007474', '4009460', '9000140', '9000233', '9000234'],\n",
       "      dtype='object')"
      ]
     },
     "execution_count": 2,
     "metadata": {},
     "output_type": "execute_result"
    }
   ],
   "source": [
    "# 지상관측 컬럼 추출\n",
    "obs_cols = raw_hourly_df.columns[1:13]\n",
    "obs_cols"
   ]
  },
  {
   "cell_type": "code",
   "execution_count": 3,
   "id": "954544bf",
   "metadata": {},
   "outputs": [
    {
     "data": {
      "text/plain": [
       "Index(['4001430_gpm', '4001440_gpm', '4001450_gpm', '4003420_gpm',\n",
       "       '4007450_gpm', '4007470_gpm', '4007472_gpm', '4007474_gpm',\n",
       "       '4009460_gpm', '9000140_gpm', '9000233_gpm', '9000234_gpm'],\n",
       "      dtype='object')"
      ]
     },
     "execution_count": 3,
     "metadata": {},
     "output_type": "execute_result"
    }
   ],
   "source": [
    "# GPM 데이터 컬럼 추출\n",
    "gpm_cols = raw_hourly_df.columns[13:]\n",
    "gpm_cols"
   ]
  },
  {
   "cell_type": "code",
   "execution_count": 4,
   "id": "71c91ff6",
   "metadata": {},
   "outputs": [
    {
     "data": {
      "text/html": [
       "<div>\n",
       "<style scoped>\n",
       "    .dataframe tbody tr th:only-of-type {\n",
       "        vertical-align: middle;\n",
       "    }\n",
       "\n",
       "    .dataframe tbody tr th {\n",
       "        vertical-align: top;\n",
       "    }\n",
       "\n",
       "    .dataframe thead th {\n",
       "        text-align: right;\n",
       "    }\n",
       "</style>\n",
       "<table border=\"1\" class=\"dataframe\">\n",
       "  <thead>\n",
       "    <tr style=\"text-align: right;\">\n",
       "      <th></th>\n",
       "    </tr>\n",
       "    <tr>\n",
       "      <th>date</th>\n",
       "    </tr>\n",
       "  </thead>\n",
       "  <tbody>\n",
       "    <tr>\n",
       "      <th>2014-10-01 01:00:00</th>\n",
       "    </tr>\n",
       "    <tr>\n",
       "      <th>2014-10-01 02:00:00</th>\n",
       "    </tr>\n",
       "    <tr>\n",
       "      <th>2014-10-01 03:00:00</th>\n",
       "    </tr>\n",
       "    <tr>\n",
       "      <th>2014-10-01 04:00:00</th>\n",
       "    </tr>\n",
       "    <tr>\n",
       "      <th>2014-10-01 05:00:00</th>\n",
       "    </tr>\n",
       "    <tr>\n",
       "      <th>...</th>\n",
       "    </tr>\n",
       "    <tr>\n",
       "      <th>2021-09-30 20:00:00</th>\n",
       "    </tr>\n",
       "    <tr>\n",
       "      <th>2021-09-30 21:00:00</th>\n",
       "    </tr>\n",
       "    <tr>\n",
       "      <th>2021-09-30 22:00:00</th>\n",
       "    </tr>\n",
       "    <tr>\n",
       "      <th>2021-09-30 23:00:00</th>\n",
       "    </tr>\n",
       "    <tr>\n",
       "      <th>2021-10-01 00:00:00</th>\n",
       "    </tr>\n",
       "  </tbody>\n",
       "</table>\n",
       "<p>61368 rows × 0 columns</p>\n",
       "</div>"
      ],
      "text/plain": [
       "Empty DataFrame\n",
       "Columns: []\n",
       "Index: [2014-10-01 01:00:00, 2014-10-01 02:00:00, 2014-10-01 03:00:00, 2014-10-01 04:00:00, 2014-10-01 05:00:00, 2014-10-01 06:00:00, 2014-10-01 07:00:00, 2014-10-01 08:00:00, 2014-10-01 09:00:00, 2014-10-01 10:00:00, 2014-10-01 11:00:00, 2014-10-01 12:00:00, 2014-10-01 13:00:00, 2014-10-01 14:00:00, 2014-10-01 15:00:00, 2014-10-01 16:00:00, 2014-10-01 17:00:00, 2014-10-01 18:00:00, 2014-10-01 19:00:00, 2014-10-01 20:00:00, 2014-10-01 21:00:00, 2014-10-01 22:00:00, 2014-10-01 23:00:00, 2014-10-02 00:00:00, 2014-10-02 01:00:00, 2014-10-02 02:00:00, 2014-10-02 03:00:00, 2014-10-02 04:00:00, 2014-10-02 05:00:00, 2014-10-02 06:00:00, 2014-10-02 07:00:00, 2014-10-02 08:00:00, 2014-10-02 09:00:00, 2014-10-02 10:00:00, 2014-10-02 11:00:00, 2014-10-02 12:00:00, 2014-10-02 13:00:00, 2014-10-02 14:00:00, 2014-10-02 15:00:00, 2014-10-02 16:00:00, 2014-10-02 17:00:00, 2014-10-02 18:00:00, 2014-10-02 19:00:00, 2014-10-02 20:00:00, 2014-10-02 21:00:00, 2014-10-02 22:00:00, 2014-10-02 23:00:00, 2014-10-03 00:00:00, 2014-10-03 01:00:00, 2014-10-03 02:00:00, 2014-10-03 03:00:00, 2014-10-03 04:00:00, 2014-10-03 05:00:00, 2014-10-03 06:00:00, 2014-10-03 07:00:00, 2014-10-03 08:00:00, 2014-10-03 09:00:00, 2014-10-03 10:00:00, 2014-10-03 11:00:00, 2014-10-03 12:00:00, 2014-10-03 13:00:00, 2014-10-03 14:00:00, 2014-10-03 15:00:00, 2014-10-03 16:00:00, 2014-10-03 17:00:00, 2014-10-03 18:00:00, 2014-10-03 19:00:00, 2014-10-03 20:00:00, 2014-10-03 21:00:00, 2014-10-03 22:00:00, 2014-10-03 23:00:00, 2014-10-04 00:00:00, 2014-10-04 01:00:00, 2014-10-04 02:00:00, 2014-10-04 03:00:00, 2014-10-04 04:00:00, 2014-10-04 05:00:00, 2014-10-04 06:00:00, 2014-10-04 07:00:00, 2014-10-04 08:00:00, 2014-10-04 09:00:00, 2014-10-04 10:00:00, 2014-10-04 11:00:00, 2014-10-04 12:00:00, 2014-10-04 13:00:00, 2014-10-04 14:00:00, 2014-10-04 15:00:00, 2014-10-04 16:00:00, 2014-10-04 17:00:00, 2014-10-04 18:00:00, 2014-10-04 19:00:00, 2014-10-04 20:00:00, 2014-10-04 21:00:00, 2014-10-04 22:00:00, 2014-10-04 23:00:00, 2014-10-05 00:00:00, 2014-10-05 01:00:00, 2014-10-05 02:00:00, 2014-10-05 03:00:00, 2014-10-05 04:00:00, ...]\n",
       "\n",
       "[61368 rows x 0 columns]"
      ]
     },
     "execution_count": 4,
     "metadata": {},
     "output_type": "execute_result"
    }
   ],
   "source": [
    "# 관측데이터의 날짜만 있는 Pandas DataFrame 생성\n",
    "obs_gpm_diff_df = pd.DataFrame(index=raw_hourly_df.date)\n",
    "obs_gpm_diff_df"
   ]
  },
  {
   "cell_type": "code",
   "execution_count": 5,
   "id": "86608a8a",
   "metadata": {},
   "outputs": [],
   "source": [
    "# [GPM관측 데이터 - 지상관측]를 관측값 코드컬럼에 값으로 넣기\n",
    "for obs_col, gpm_col in zip(obs_cols, gpm_cols):\n",
    "    diff = raw_hourly_df[gpm_col] - raw_hourly_df[obs_col]\n",
    "    obs_gpm_diff_df[obs_col+\"_diff\"] = diff.values"
   ]
  },
  {
   "cell_type": "code",
   "execution_count": 6,
   "id": "c283b844",
   "metadata": {},
   "outputs": [
    {
     "data": {
      "text/html": [
       "<div>\n",
       "<style scoped>\n",
       "    .dataframe tbody tr th:only-of-type {\n",
       "        vertical-align: middle;\n",
       "    }\n",
       "\n",
       "    .dataframe tbody tr th {\n",
       "        vertical-align: top;\n",
       "    }\n",
       "\n",
       "    .dataframe thead th {\n",
       "        text-align: right;\n",
       "    }\n",
       "</style>\n",
       "<table border=\"1\" class=\"dataframe\">\n",
       "  <thead>\n",
       "    <tr style=\"text-align: right;\">\n",
       "      <th></th>\n",
       "      <th>4001430_diff</th>\n",
       "      <th>4001440_diff</th>\n",
       "      <th>4001450_diff</th>\n",
       "      <th>4003420_diff</th>\n",
       "      <th>4007450_diff</th>\n",
       "      <th>4007470_diff</th>\n",
       "      <th>4007472_diff</th>\n",
       "      <th>4007474_diff</th>\n",
       "      <th>4009460_diff</th>\n",
       "      <th>9000140_diff</th>\n",
       "      <th>9000233_diff</th>\n",
       "      <th>9000234_diff</th>\n",
       "    </tr>\n",
       "    <tr>\n",
       "      <th>date</th>\n",
       "      <th></th>\n",
       "      <th></th>\n",
       "      <th></th>\n",
       "      <th></th>\n",
       "      <th></th>\n",
       "      <th></th>\n",
       "      <th></th>\n",
       "      <th></th>\n",
       "      <th></th>\n",
       "      <th></th>\n",
       "      <th></th>\n",
       "      <th></th>\n",
       "    </tr>\n",
       "  </thead>\n",
       "  <tbody>\n",
       "    <tr>\n",
       "      <th>2014-10-01 01:00:00</th>\n",
       "      <td>0.0</td>\n",
       "      <td>0.0</td>\n",
       "      <td>0.0</td>\n",
       "      <td>0.0</td>\n",
       "      <td>0.0</td>\n",
       "      <td>0.0</td>\n",
       "      <td>0.0</td>\n",
       "      <td>0.0</td>\n",
       "      <td>0.0</td>\n",
       "      <td>0.0</td>\n",
       "      <td>0.0</td>\n",
       "      <td>0.0</td>\n",
       "    </tr>\n",
       "    <tr>\n",
       "      <th>2014-10-01 02:00:00</th>\n",
       "      <td>0.0</td>\n",
       "      <td>0.0</td>\n",
       "      <td>0.0</td>\n",
       "      <td>0.0</td>\n",
       "      <td>0.0</td>\n",
       "      <td>0.0</td>\n",
       "      <td>0.0</td>\n",
       "      <td>0.0</td>\n",
       "      <td>0.0</td>\n",
       "      <td>0.0</td>\n",
       "      <td>0.0</td>\n",
       "      <td>0.0</td>\n",
       "    </tr>\n",
       "    <tr>\n",
       "      <th>2014-10-01 03:00:00</th>\n",
       "      <td>0.0</td>\n",
       "      <td>0.0</td>\n",
       "      <td>0.0</td>\n",
       "      <td>0.0</td>\n",
       "      <td>0.0</td>\n",
       "      <td>0.0</td>\n",
       "      <td>0.0</td>\n",
       "      <td>0.0</td>\n",
       "      <td>0.0</td>\n",
       "      <td>0.0</td>\n",
       "      <td>0.0</td>\n",
       "      <td>0.0</td>\n",
       "    </tr>\n",
       "    <tr>\n",
       "      <th>2014-10-01 04:00:00</th>\n",
       "      <td>0.0</td>\n",
       "      <td>0.0</td>\n",
       "      <td>-1.0</td>\n",
       "      <td>0.0</td>\n",
       "      <td>0.0</td>\n",
       "      <td>0.0</td>\n",
       "      <td>0.0</td>\n",
       "      <td>0.0</td>\n",
       "      <td>0.0</td>\n",
       "      <td>0.0</td>\n",
       "      <td>0.0</td>\n",
       "      <td>0.0</td>\n",
       "    </tr>\n",
       "    <tr>\n",
       "      <th>2014-10-01 05:00:00</th>\n",
       "      <td>0.0</td>\n",
       "      <td>0.0</td>\n",
       "      <td>0.0</td>\n",
       "      <td>0.0</td>\n",
       "      <td>0.0</td>\n",
       "      <td>0.0</td>\n",
       "      <td>0.0</td>\n",
       "      <td>0.0</td>\n",
       "      <td>0.0</td>\n",
       "      <td>0.0</td>\n",
       "      <td>0.0</td>\n",
       "      <td>0.0</td>\n",
       "    </tr>\n",
       "    <tr>\n",
       "      <th>...</th>\n",
       "      <td>...</td>\n",
       "      <td>...</td>\n",
       "      <td>...</td>\n",
       "      <td>...</td>\n",
       "      <td>...</td>\n",
       "      <td>...</td>\n",
       "      <td>...</td>\n",
       "      <td>...</td>\n",
       "      <td>...</td>\n",
       "      <td>...</td>\n",
       "      <td>...</td>\n",
       "      <td>...</td>\n",
       "    </tr>\n",
       "    <tr>\n",
       "      <th>2021-09-30 20:00:00</th>\n",
       "      <td>0.0</td>\n",
       "      <td>0.0</td>\n",
       "      <td>0.0</td>\n",
       "      <td>0.0</td>\n",
       "      <td>0.0</td>\n",
       "      <td>0.0</td>\n",
       "      <td>0.0</td>\n",
       "      <td>0.0</td>\n",
       "      <td>0.0</td>\n",
       "      <td>0.0</td>\n",
       "      <td>0.0</td>\n",
       "      <td>0.0</td>\n",
       "    </tr>\n",
       "    <tr>\n",
       "      <th>2021-09-30 21:00:00</th>\n",
       "      <td>0.0</td>\n",
       "      <td>0.0</td>\n",
       "      <td>0.0</td>\n",
       "      <td>0.0</td>\n",
       "      <td>0.0</td>\n",
       "      <td>0.0</td>\n",
       "      <td>0.0</td>\n",
       "      <td>0.0</td>\n",
       "      <td>0.0</td>\n",
       "      <td>0.0</td>\n",
       "      <td>0.0</td>\n",
       "      <td>0.0</td>\n",
       "    </tr>\n",
       "    <tr>\n",
       "      <th>2021-09-30 22:00:00</th>\n",
       "      <td>0.0</td>\n",
       "      <td>0.0</td>\n",
       "      <td>0.0</td>\n",
       "      <td>0.0</td>\n",
       "      <td>0.0</td>\n",
       "      <td>0.0</td>\n",
       "      <td>0.0</td>\n",
       "      <td>0.0</td>\n",
       "      <td>0.0</td>\n",
       "      <td>0.0</td>\n",
       "      <td>0.0</td>\n",
       "      <td>0.0</td>\n",
       "    </tr>\n",
       "    <tr>\n",
       "      <th>2021-09-30 23:00:00</th>\n",
       "      <td>0.0</td>\n",
       "      <td>0.0</td>\n",
       "      <td>0.0</td>\n",
       "      <td>0.0</td>\n",
       "      <td>0.0</td>\n",
       "      <td>0.0</td>\n",
       "      <td>0.0</td>\n",
       "      <td>0.0</td>\n",
       "      <td>0.0</td>\n",
       "      <td>0.0</td>\n",
       "      <td>0.0</td>\n",
       "      <td>0.0</td>\n",
       "    </tr>\n",
       "    <tr>\n",
       "      <th>2021-10-01 00:00:00</th>\n",
       "      <td>0.0</td>\n",
       "      <td>0.0</td>\n",
       "      <td>0.0</td>\n",
       "      <td>0.0</td>\n",
       "      <td>0.0</td>\n",
       "      <td>0.0</td>\n",
       "      <td>0.0</td>\n",
       "      <td>0.0</td>\n",
       "      <td>0.0</td>\n",
       "      <td>0.0</td>\n",
       "      <td>0.0</td>\n",
       "      <td>0.0</td>\n",
       "    </tr>\n",
       "  </tbody>\n",
       "</table>\n",
       "<p>61368 rows × 12 columns</p>\n",
       "</div>"
      ],
      "text/plain": [
       "                     4001430_diff  4001440_diff  4001450_diff  4003420_diff  \\\n",
       "date                                                                          \n",
       "2014-10-01 01:00:00           0.0           0.0           0.0           0.0   \n",
       "2014-10-01 02:00:00           0.0           0.0           0.0           0.0   \n",
       "2014-10-01 03:00:00           0.0           0.0           0.0           0.0   \n",
       "2014-10-01 04:00:00           0.0           0.0          -1.0           0.0   \n",
       "2014-10-01 05:00:00           0.0           0.0           0.0           0.0   \n",
       "...                           ...           ...           ...           ...   \n",
       "2021-09-30 20:00:00           0.0           0.0           0.0           0.0   \n",
       "2021-09-30 21:00:00           0.0           0.0           0.0           0.0   \n",
       "2021-09-30 22:00:00           0.0           0.0           0.0           0.0   \n",
       "2021-09-30 23:00:00           0.0           0.0           0.0           0.0   \n",
       "2021-10-01 00:00:00           0.0           0.0           0.0           0.0   \n",
       "\n",
       "                     4007450_diff  4007470_diff  4007472_diff  4007474_diff  \\\n",
       "date                                                                          \n",
       "2014-10-01 01:00:00           0.0           0.0           0.0           0.0   \n",
       "2014-10-01 02:00:00           0.0           0.0           0.0           0.0   \n",
       "2014-10-01 03:00:00           0.0           0.0           0.0           0.0   \n",
       "2014-10-01 04:00:00           0.0           0.0           0.0           0.0   \n",
       "2014-10-01 05:00:00           0.0           0.0           0.0           0.0   \n",
       "...                           ...           ...           ...           ...   \n",
       "2021-09-30 20:00:00           0.0           0.0           0.0           0.0   \n",
       "2021-09-30 21:00:00           0.0           0.0           0.0           0.0   \n",
       "2021-09-30 22:00:00           0.0           0.0           0.0           0.0   \n",
       "2021-09-30 23:00:00           0.0           0.0           0.0           0.0   \n",
       "2021-10-01 00:00:00           0.0           0.0           0.0           0.0   \n",
       "\n",
       "                     4009460_diff  9000140_diff  9000233_diff  9000234_diff  \n",
       "date                                                                         \n",
       "2014-10-01 01:00:00           0.0           0.0           0.0           0.0  \n",
       "2014-10-01 02:00:00           0.0           0.0           0.0           0.0  \n",
       "2014-10-01 03:00:00           0.0           0.0           0.0           0.0  \n",
       "2014-10-01 04:00:00           0.0           0.0           0.0           0.0  \n",
       "2014-10-01 05:00:00           0.0           0.0           0.0           0.0  \n",
       "...                           ...           ...           ...           ...  \n",
       "2021-09-30 20:00:00           0.0           0.0           0.0           0.0  \n",
       "2021-09-30 21:00:00           0.0           0.0           0.0           0.0  \n",
       "2021-09-30 22:00:00           0.0           0.0           0.0           0.0  \n",
       "2021-09-30 23:00:00           0.0           0.0           0.0           0.0  \n",
       "2021-10-01 00:00:00           0.0           0.0           0.0           0.0  \n",
       "\n",
       "[61368 rows x 12 columns]"
      ]
     },
     "execution_count": 6,
     "metadata": {},
     "output_type": "execute_result"
    }
   ],
   "source": [
    "# 최종 [GPM관측 데이터 - 지상관측] Pandas DataFrame 확인\n",
    "obs_gpm_diff_df"
   ]
  },
  {
   "cell_type": "code",
   "execution_count": 7,
   "id": "1ea73df6",
   "metadata": {},
   "outputs": [
    {
     "data": {
      "text/html": [
       "<div>\n",
       "<style scoped>\n",
       "    .dataframe tbody tr th:only-of-type {\n",
       "        vertical-align: middle;\n",
       "    }\n",
       "\n",
       "    .dataframe tbody tr th {\n",
       "        vertical-align: top;\n",
       "    }\n",
       "\n",
       "    .dataframe thead th {\n",
       "        text-align: right;\n",
       "    }\n",
       "</style>\n",
       "<table border=\"1\" class=\"dataframe\">\n",
       "  <thead>\n",
       "    <tr style=\"text-align: right;\">\n",
       "      <th></th>\n",
       "      <th>4001430_diff</th>\n",
       "      <th>4001440_diff</th>\n",
       "      <th>4001450_diff</th>\n",
       "      <th>4003420_diff</th>\n",
       "      <th>4007450_diff</th>\n",
       "      <th>4007470_diff</th>\n",
       "      <th>4007472_diff</th>\n",
       "      <th>4007474_diff</th>\n",
       "      <th>4009460_diff</th>\n",
       "      <th>9000140_diff</th>\n",
       "      <th>9000233_diff</th>\n",
       "      <th>9000234_diff</th>\n",
       "    </tr>\n",
       "  </thead>\n",
       "  <tbody>\n",
       "    <tr>\n",
       "      <th>count</th>\n",
       "      <td>61,368.00</td>\n",
       "      <td>61,368.00</td>\n",
       "      <td>61,368.00</td>\n",
       "      <td>61,368.00</td>\n",
       "      <td>61,368.00</td>\n",
       "      <td>61,368.00</td>\n",
       "      <td>61,368.00</td>\n",
       "      <td>61,368.00</td>\n",
       "      <td>61,368.00</td>\n",
       "      <td>61,368.00</td>\n",
       "      <td>61,368.00</td>\n",
       "      <td>61,368.00</td>\n",
       "    </tr>\n",
       "    <tr>\n",
       "      <th>mean</th>\n",
       "      <td>-0.05</td>\n",
       "      <td>-0.05</td>\n",
       "      <td>-0.07</td>\n",
       "      <td>-0.04</td>\n",
       "      <td>-0.05</td>\n",
       "      <td>-0.06</td>\n",
       "      <td>-0.04</td>\n",
       "      <td>-0.06</td>\n",
       "      <td>-0.04</td>\n",
       "      <td>-0.05</td>\n",
       "      <td>-0.06</td>\n",
       "      <td>-0.06</td>\n",
       "    </tr>\n",
       "    <tr>\n",
       "      <th>std</th>\n",
       "      <td>1.06</td>\n",
       "      <td>1.04</td>\n",
       "      <td>1.11</td>\n",
       "      <td>0.91</td>\n",
       "      <td>1.08</td>\n",
       "      <td>1.10</td>\n",
       "      <td>1.03</td>\n",
       "      <td>1.16</td>\n",
       "      <td>1.06</td>\n",
       "      <td>1.09</td>\n",
       "      <td>1.09</td>\n",
       "      <td>1.14</td>\n",
       "    </tr>\n",
       "    <tr>\n",
       "      <th>min</th>\n",
       "      <td>-45.35</td>\n",
       "      <td>-60.45</td>\n",
       "      <td>-67.15</td>\n",
       "      <td>-55.55</td>\n",
       "      <td>-83.25</td>\n",
       "      <td>-42.35</td>\n",
       "      <td>-62.80</td>\n",
       "      <td>-56.90</td>\n",
       "      <td>-71.90</td>\n",
       "      <td>-41.95</td>\n",
       "      <td>-51.55</td>\n",
       "      <td>-66.80</td>\n",
       "    </tr>\n",
       "    <tr>\n",
       "      <th>25%</th>\n",
       "      <td>0.00</td>\n",
       "      <td>0.00</td>\n",
       "      <td>0.00</td>\n",
       "      <td>0.00</td>\n",
       "      <td>0.00</td>\n",
       "      <td>0.00</td>\n",
       "      <td>0.00</td>\n",
       "      <td>0.00</td>\n",
       "      <td>0.00</td>\n",
       "      <td>0.00</td>\n",
       "      <td>0.00</td>\n",
       "      <td>0.00</td>\n",
       "    </tr>\n",
       "    <tr>\n",
       "      <th>50%</th>\n",
       "      <td>0.00</td>\n",
       "      <td>0.00</td>\n",
       "      <td>0.00</td>\n",
       "      <td>0.00</td>\n",
       "      <td>0.00</td>\n",
       "      <td>0.00</td>\n",
       "      <td>0.00</td>\n",
       "      <td>0.00</td>\n",
       "      <td>0.00</td>\n",
       "      <td>0.00</td>\n",
       "      <td>0.00</td>\n",
       "      <td>0.00</td>\n",
       "    </tr>\n",
       "    <tr>\n",
       "      <th>75%</th>\n",
       "      <td>0.00</td>\n",
       "      <td>0.00</td>\n",
       "      <td>0.00</td>\n",
       "      <td>0.00</td>\n",
       "      <td>0.00</td>\n",
       "      <td>0.00</td>\n",
       "      <td>0.00</td>\n",
       "      <td>0.00</td>\n",
       "      <td>0.00</td>\n",
       "      <td>0.00</td>\n",
       "      <td>0.00</td>\n",
       "      <td>0.00</td>\n",
       "    </tr>\n",
       "    <tr>\n",
       "      <th>max</th>\n",
       "      <td>66.75</td>\n",
       "      <td>49.95</td>\n",
       "      <td>25.70</td>\n",
       "      <td>43.10</td>\n",
       "      <td>29.05</td>\n",
       "      <td>42.10</td>\n",
       "      <td>39.95</td>\n",
       "      <td>49.00</td>\n",
       "      <td>32.15</td>\n",
       "      <td>38.65</td>\n",
       "      <td>30.75</td>\n",
       "      <td>30.10</td>\n",
       "    </tr>\n",
       "  </tbody>\n",
       "</table>\n",
       "</div>"
      ],
      "text/plain": [
       "      4001430_diff 4001440_diff 4001450_diff 4003420_diff 4007450_diff  \\\n",
       "count    61,368.00    61,368.00    61,368.00    61,368.00    61,368.00   \n",
       "mean         -0.05        -0.05        -0.07        -0.04        -0.05   \n",
       "std           1.06         1.04         1.11         0.91         1.08   \n",
       "min         -45.35       -60.45       -67.15       -55.55       -83.25   \n",
       "25%           0.00         0.00         0.00         0.00         0.00   \n",
       "50%           0.00         0.00         0.00         0.00         0.00   \n",
       "75%           0.00         0.00         0.00         0.00         0.00   \n",
       "max          66.75        49.95        25.70        43.10        29.05   \n",
       "\n",
       "      4007470_diff 4007472_diff 4007474_diff 4009460_diff 9000140_diff  \\\n",
       "count    61,368.00    61,368.00    61,368.00    61,368.00    61,368.00   \n",
       "mean         -0.06        -0.04        -0.06        -0.04        -0.05   \n",
       "std           1.10         1.03         1.16         1.06         1.09   \n",
       "min         -42.35       -62.80       -56.90       -71.90       -41.95   \n",
       "25%           0.00         0.00         0.00         0.00         0.00   \n",
       "50%           0.00         0.00         0.00         0.00         0.00   \n",
       "75%           0.00         0.00         0.00         0.00         0.00   \n",
       "max          42.10        39.95        49.00        32.15        38.65   \n",
       "\n",
       "      9000233_diff 9000234_diff  \n",
       "count    61,368.00    61,368.00  \n",
       "mean         -0.06        -0.06  \n",
       "std           1.09         1.14  \n",
       "min         -51.55       -66.80  \n",
       "25%           0.00         0.00  \n",
       "50%           0.00         0.00  \n",
       "75%           0.00         0.00  \n",
       "max          30.75        30.10  "
      ]
     },
     "execution_count": 7,
     "metadata": {},
     "output_type": "execute_result"
    }
   ],
   "source": [
    "# 각 관측소별 통계 특성값 확인\n",
    "obs_gpm_diff_df.describe().applymap('{:,.2f}'.format)"
   ]
  },
  {
   "cell_type": "markdown",
   "id": "d5e8b1a8",
   "metadata": {},
   "source": [
    "## 2.  관측소별 [GPM관측 데이터 - 지상관측] 의 특성 분석"
   ]
  },
  {
   "cell_type": "markdown",
   "id": "6e787dd5",
   "metadata": {},
   "source": [
    "### 2.1 \"4001430\" 강우관측소"
   ]
  },
  {
   "cell_type": "code",
   "execution_count": 8,
   "id": "2f54aa90",
   "metadata": {},
   "outputs": [],
   "source": [
    "sns.set_style(\"darkgrid\")\n",
    "sns.set(rc = {'figure.figsize':(10,8)})"
   ]
  },
  {
   "cell_type": "markdown",
   "id": "c9140e5c",
   "metadata": {},
   "source": [
    "#### Violin Plot을 활용하여 [GPM관측 데이터 - 지상관측] 데이터의 분포특성 (Min, Max, 분포 등) 분석"
   ]
  },
  {
   "cell_type": "code",
   "execution_count": 9,
   "id": "4cc203f5",
   "metadata": {},
   "outputs": [
    {
     "data": {
      "image/png": "[encoded data removed]",
      "text/plain": [
       "<Figure size 720x576 with 1 Axes>"
      ]
     },
     "metadata": {},
     "output_type": "display_data"
    }
   ],
   "source": [
    "st_code = obs_gpm_diff_df.columns[0]\n",
    "sns.violinplot(y=obs_gpm_diff_df[st_code])\n",
    "plt.ylim(-100, 100)\n",
    "plt.yticks(fontsize=12)\n",
    "plt.ylabel('Difference = IMERG Observation (mm/h) - Station Observation (mm/h)', fontsize=12)\n",
    "plt.show()"
   ]
  },
  {
   "cell_type": "markdown",
   "id": "442d8fca",
   "metadata": {},
   "source": [
    "#### 데이터 차이의 Min ~ Max를 고려하여 데이터로 분포 파악"
   ]
  },
  {
   "cell_type": "code",
   "execution_count": 10,
   "id": "3aa9fab8",
   "metadata": {},
   "outputs": [
    {
     "data": {
      "text/plain": [
       "[-50, -40, -30, -20, -10, 0, 10, 20, 30, 40, 50, 60, 70, 80, 90]"
      ]
     },
     "execution_count": 10,
     "metadata": {},
     "output_type": "execute_result"
    }
   ],
   "source": [
    "bins = list(range(-50, 100, 10))\n",
    "bins"
   ]
  },
  {
   "cell_type": "code",
   "execution_count": 11,
   "id": "e70e39fb",
   "metadata": {},
   "outputs": [
    {
     "data": {
      "text/plain": [
       "((-50.001, -40.0]        3\n",
       " (-40.0, -30.0]          4\n",
       " (-30.0, -20.0]         20\n",
       " (-20.0, -10.0]         74\n",
       " (-10.0, 0.0]        60426\n",
       " (0.0, 10.0]           813\n",
       " (10.0, 20.0]           23\n",
       " (20.0, 30.0]            1\n",
       " (30.0, 40.0]            1\n",
       " (40.0, 50.0]            1\n",
       " (50.0, 60.0]            1\n",
       " (60.0, 70.0]            1\n",
       " (70.0, 80.0]            0\n",
       " (80.0, 90.0]            0\n",
       " Name: 4001430_diff, dtype: int64,\n",
       " (-50.001, -40.0]    0.000049\n",
       " (-40.0, -30.0]      0.000065\n",
       " (-30.0, -20.0]      0.000326\n",
       " (-20.0, -10.0]      0.001206\n",
       " (-10.0, 0.0]        0.984650\n",
       " (0.0, 10.0]         0.013248\n",
       " (10.0, 20.0]        0.000375\n",
       " (20.0, 30.0]        0.000016\n",
       " (30.0, 40.0]        0.000016\n",
       " (40.0, 50.0]        0.000016\n",
       " (50.0, 60.0]        0.000016\n",
       " (60.0, 70.0]        0.000016\n",
       " (70.0, 80.0]        0.000000\n",
       " (80.0, 90.0]        0.000000\n",
       " Name: 4001430_diff, dtype: float64)"
      ]
     },
     "execution_count": 11,
     "metadata": {},
     "output_type": "execute_result"
    }
   ],
   "source": [
    "obs_gpm_diff_df[st_code].value_counts(bins=bins).sort_index(), obs_gpm_diff_df[st_code].value_counts(bins=bins, normalize=True).sort_index()"
   ]
  },
  {
   "cell_type": "markdown",
   "id": "8129bb5d",
   "metadata": {},
   "source": [
    "#### 데이터 주로 분포하고 있는 -10~10사이의 분포 파악"
   ]
  },
  {
   "cell_type": "code",
   "execution_count": 12,
   "id": "892533ae",
   "metadata": {},
   "outputs": [
    {
     "data": {
      "text/plain": [
       "[-10, -9, -8, -7, -6, -5, -4, -3, -2, -1, 0, 1, 2, 3, 4, 5, 6, 7, 8, 9, 10]"
      ]
     },
     "execution_count": 12,
     "metadata": {},
     "output_type": "execute_result"
    }
   ],
   "source": [
    "bins_detail = list(range(-10, 11, 1))\n",
    "bins_detail"
   ]
  },
  {
   "cell_type": "code",
   "execution_count": 13,
   "id": "19920c5f",
   "metadata": {},
   "outputs": [
    {
     "data": {
      "text/plain": [
       "((-10.001, -9.0]       12\n",
       " (-9.0, -8.0]          23\n",
       " (-8.0, -7.0]          20\n",
       " (-7.0, -6.0]          21\n",
       " (-6.0, -5.0]          33\n",
       " (-5.0, -4.0]          52\n",
       " (-4.0, -3.0]         118\n",
       " (-3.0, -2.0]         255\n",
       " (-2.0, -1.0]         982\n",
       " (-1.0, 0.0]        58911\n",
       " (0.0, 1.0]           321\n",
       " (1.0, 2.0]           196\n",
       " (2.0, 3.0]           101\n",
       " (3.0, 4.0]            69\n",
       " (4.0, 5.0]            34\n",
       " (5.0, 6.0]            30\n",
       " (6.0, 7.0]            26\n",
       " (7.0, 8.0]            16\n",
       " (8.0, 9.0]            12\n",
       " (9.0, 10.0]            8\n",
       " Name: 4001430_diff, dtype: int64,\n",
       " (-10.001, -9.0]    0.000196\n",
       " (-9.0, -8.0]       0.000375\n",
       " (-8.0, -7.0]       0.000326\n",
       " (-7.0, -6.0]       0.000342\n",
       " (-6.0, -5.0]       0.000538\n",
       " (-5.0, -4.0]       0.000847\n",
       " (-4.0, -3.0]       0.001923\n",
       " (-3.0, -2.0]       0.004155\n",
       " (-2.0, -1.0]       0.016002\n",
       " (-1.0, 0.0]        0.959963\n",
       " (0.0, 1.0]         0.005231\n",
       " (1.0, 2.0]         0.003194\n",
       " (2.0, 3.0]         0.001646\n",
       " (3.0, 4.0]         0.001124\n",
       " (4.0, 5.0]         0.000554\n",
       " (5.0, 6.0]         0.000489\n",
       " (6.0, 7.0]         0.000424\n",
       " (7.0, 8.0]         0.000261\n",
       " (8.0, 9.0]         0.000196\n",
       " (9.0, 10.0]        0.000130\n",
       " Name: 4001430_diff, dtype: float64)"
      ]
     },
     "execution_count": 13,
     "metadata": {},
     "output_type": "execute_result"
    }
   ],
   "source": [
    "obs_gpm_diff_df[st_code].value_counts(bins=bins_detail).sort_index(), obs_gpm_diff_df[st_code].value_counts(bins=bins_detail, normalize=True).sort_index()"
   ]
  },
  {
   "cell_type": "code",
   "execution_count": 14,
   "id": "4e088982",
   "metadata": {},
   "outputs": [
    {
     "data": {
      "text/plain": [
       "<AxesSubplot:>"
      ]
     },
     "execution_count": 14,
     "metadata": {},
     "output_type": "execute_result"
    },
    {
     "data": {
      "image/png": "[encoded data removed]",
      "text/plain": [
       "<Figure size 1080x360 with 1 Axes>"
      ]
     },
     "metadata": {},
     "output_type": "display_data"
    }
   ],
   "source": [
    "obs_gpm_diff_df[st_code].hist(bins=bins_detail, figsize=(15,5))"
   ]
  },
  {
   "cell_type": "markdown",
   "id": "9ed1feeb",
   "metadata": {},
   "source": [
    "### 2.2 \"4001440\" 강우관측소 (Done)"
   ]
  },
  {
   "cell_type": "markdown",
   "id": "77fef45b",
   "metadata": {},
   "source": [
    "#### Violin Plot을 활용하여 [GPM관측 데이터 - 지상관측] 데이터의 분포특성 (Min, Max, 분포 등) 분석"
   ]
  },
  {
   "cell_type": "code",
   "execution_count": 15,
   "id": "0486cc48",
   "metadata": {},
   "outputs": [
    {
     "data": {
      "image/png": "[encoded data removed]",
      "text/plain": [
       "<Figure size 720x576 with 1 Axes>"
      ]
     },
     "metadata": {},
     "output_type": "display_data"
    }
   ],
   "source": [
    "st_code = obs_gpm_diff_df.columns[1]\n",
    "sns.violinplot(y=obs_gpm_diff_df[st_code])\n",
    "plt.ylim(-100, 100)\n",
    "plt.yticks(fontsize=12)\n",
    "plt.ylabel('Difference = IMERG Observation (mm/h) - Station Observation (mm/h)', fontsize=12)\n",
    "plt.show()"
   ]
  },
  {
   "cell_type": "markdown",
   "id": "18f75b56",
   "metadata": {},
   "source": [
    "#### 데이터 차이의 Min ~ Max를 고려하여 데이터로 분포 파악"
   ]
  },
  {
   "cell_type": "code",
   "execution_count": 16,
   "id": "749ef1e5",
   "metadata": {},
   "outputs": [
    {
     "data": {
      "text/plain": [
       "[-50, -40, -30, -20, -10, 0, 10, 20, 30, 40, 50, 60, 70, 80, 90, 100, 110]"
      ]
     },
     "execution_count": 16,
     "metadata": {},
     "output_type": "execute_result"
    }
   ],
   "source": [
    "bins = list(range(-50, 120, 10))\n",
    "bins"
   ]
  },
  {
   "cell_type": "code",
   "execution_count": 17,
   "id": "3ed91d8f",
   "metadata": {},
   "outputs": [
    {
     "data": {
      "text/plain": [
       "((-50.001, -40.0]        2\n",
       " (-40.0, -30.0]          3\n",
       " (-30.0, -20.0]         12\n",
       " (-20.0, -10.0]         56\n",
       " (-10.0, 0.0]        60433\n",
       " (0.0, 10.0]           832\n",
       " (10.0, 20.0]           22\n",
       " (20.0, 30.0]            2\n",
       " (30.0, 40.0]            0\n",
       " (40.0, 50.0]            2\n",
       " (50.0, 60.0]            0\n",
       " (60.0, 70.0]            0\n",
       " (70.0, 80.0]            0\n",
       " (80.0, 90.0]            0\n",
       " (90.0, 100.0]           0\n",
       " (100.0, 110.0]          0\n",
       " Name: 4001440_diff, dtype: int64,\n",
       " (-50.001, -40.0]    0.000033\n",
       " (-40.0, -30.0]      0.000049\n",
       " (-30.0, -20.0]      0.000196\n",
       " (-20.0, -10.0]      0.000913\n",
       " (-10.0, 0.0]        0.984764\n",
       " (0.0, 10.0]         0.013558\n",
       " (10.0, 20.0]        0.000358\n",
       " (20.0, 30.0]        0.000033\n",
       " (30.0, 40.0]        0.000000\n",
       " (40.0, 50.0]        0.000033\n",
       " (50.0, 60.0]        0.000000\n",
       " (60.0, 70.0]        0.000000\n",
       " (70.0, 80.0]        0.000000\n",
       " (80.0, 90.0]        0.000000\n",
       " (90.0, 100.0]       0.000000\n",
       " (100.0, 110.0]      0.000000\n",
       " Name: 4001440_diff, dtype: float64)"
      ]
     },
     "execution_count": 17,
     "metadata": {},
     "output_type": "execute_result"
    }
   ],
   "source": [
    "obs_gpm_diff_df[st_code].value_counts(bins=bins).sort_index(), obs_gpm_diff_df[st_code].value_counts(bins=bins, normalize=True).sort_index()"
   ]
  },
  {
   "cell_type": "markdown",
   "id": "d0360f37",
   "metadata": {},
   "source": [
    "#### 데이터 주로 분포하고 있는 -10~10사이의 분포 파악"
   ]
  },
  {
   "cell_type": "code",
   "execution_count": 18,
   "id": "dcba4ef9",
   "metadata": {},
   "outputs": [
    {
     "data": {
      "text/plain": [
       "[-10, -9, -8, -7, -6, -5, -4, -3, -2, -1, 0, 1, 2, 3, 4, 5, 6, 7, 8, 9, 10]"
      ]
     },
     "execution_count": 18,
     "metadata": {},
     "output_type": "execute_result"
    }
   ],
   "source": [
    "bins_detail = list(range(-10, 11, 1))\n",
    "bins_detail"
   ]
  },
  {
   "cell_type": "code",
   "execution_count": 19,
   "id": "ccb34887",
   "metadata": {},
   "outputs": [
    {
     "data": {
      "text/plain": [
       "((-10.001, -9.0]       14\n",
       " (-9.0, -8.0]          21\n",
       " (-8.0, -7.0]          27\n",
       " (-7.0, -6.0]          30\n",
       " (-6.0, -5.0]          44\n",
       " (-5.0, -4.0]          56\n",
       " (-4.0, -3.0]         142\n",
       " (-3.0, -2.0]         266\n",
       " (-2.0, -1.0]        1198\n",
       " (-1.0, 0.0]        58638\n",
       " (0.0, 1.0]           307\n",
       " (1.0, 2.0]           196\n",
       " (2.0, 3.0]           131\n",
       " (3.0, 4.0]            63\n",
       " (4.0, 5.0]            46\n",
       " (5.0, 6.0]            28\n",
       " (6.0, 7.0]            26\n",
       " (7.0, 8.0]            21\n",
       " (8.0, 9.0]             9\n",
       " (9.0, 10.0]            5\n",
       " Name: 4001440_diff, dtype: int64,\n",
       " (-10.001, -9.0]    0.000228\n",
       " (-9.0, -8.0]       0.000342\n",
       " (-8.0, -7.0]       0.000440\n",
       " (-7.0, -6.0]       0.000489\n",
       " (-6.0, -5.0]       0.000717\n",
       " (-5.0, -4.0]       0.000913\n",
       " (-4.0, -3.0]       0.002314\n",
       " (-3.0, -2.0]       0.004335\n",
       " (-2.0, -1.0]       0.019522\n",
       " (-1.0, 0.0]        0.955514\n",
       " (0.0, 1.0]         0.005003\n",
       " (1.0, 2.0]         0.003194\n",
       " (2.0, 3.0]         0.002135\n",
       " (3.0, 4.0]         0.001027\n",
       " (4.0, 5.0]         0.000750\n",
       " (5.0, 6.0]         0.000456\n",
       " (6.0, 7.0]         0.000424\n",
       " (7.0, 8.0]         0.000342\n",
       " (8.0, 9.0]         0.000147\n",
       " (9.0, 10.0]        0.000081\n",
       " Name: 4001440_diff, dtype: float64)"
      ]
     },
     "execution_count": 19,
     "metadata": {},
     "output_type": "execute_result"
    }
   ],
   "source": [
    "obs_gpm_diff_df[st_code].value_counts(bins=bins_detail).sort_index(), obs_gpm_diff_df[st_code].value_counts(bins=bins_detail, normalize=True).sort_index()"
   ]
  },
  {
   "cell_type": "code",
   "execution_count": 20,
   "id": "0c593eef",
   "metadata": {},
   "outputs": [
    {
     "data": {
      "text/plain": [
       "<AxesSubplot:>"
      ]
     },
     "execution_count": 20,
     "metadata": {},
     "output_type": "execute_result"
    },
    {
     "data": {
      "image/png": "[encoded data removed]",
      "text/plain": [
       "<Figure size 1080x360 with 1 Axes>"
      ]
     },
     "metadata": {},
     "output_type": "display_data"
    }
   ],
   "source": [
    "obs_gpm_diff_df[st_code].hist(bins=bins_detail, figsize=(15,5))"
   ]
  },
  {
   "cell_type": "markdown",
   "id": "ddd4c5cf",
   "metadata": {},
   "source": [
    "### 2.3 \"4001450\" 강우관측소 (Done)"
   ]
  },
  {
   "cell_type": "markdown",
   "id": "7d706b97",
   "metadata": {},
   "source": [
    "#### Violin Plot을 활용하여 [GPM관측 데이터 - 지상관측] 데이터의 분포특성 (Min, Max, 분포 등) 분석"
   ]
  },
  {
   "cell_type": "code",
   "execution_count": 21,
   "id": "d97ab36e",
   "metadata": {},
   "outputs": [
    {
     "data": {
      "image/png": "[encoded data removed]",
      "text/plain": [
       "<Figure size 720x576 with 1 Axes>"
      ]
     },
     "metadata": {},
     "output_type": "display_data"
    }
   ],
   "source": [
    "st_code = obs_gpm_diff_df.columns[2]\n",
    "sns.violinplot(y=obs_gpm_diff_df[st_code])\n",
    "plt.ylim(-100, 100)\n",
    "plt.yticks(fontsize=12)\n",
    "plt.ylabel('Difference = IMERG Observation (mm/h) - Station Observation (mm/h)', fontsize=12)\n",
    "plt.show()"
   ]
  },
  {
   "cell_type": "markdown",
   "id": "f6d12ba5",
   "metadata": {},
   "source": [
    "#### 데이터 차이의 Min ~ Max를 고려하여 데이터로 분포 파악"
   ]
  },
  {
   "cell_type": "code",
   "execution_count": 22,
   "id": "2fdfbdbe",
   "metadata": {},
   "outputs": [
    {
     "data": {
      "text/plain": [
       "[-70, -60, -50, -40, -30, -20, -10, 0, 10, 20, 30, 40]"
      ]
     },
     "execution_count": 22,
     "metadata": {},
     "output_type": "execute_result"
    }
   ],
   "source": [
    "bins = list(range(-70, 50, 10))\n",
    "bins"
   ]
  },
  {
   "cell_type": "code",
   "execution_count": 23,
   "id": "055a0b60",
   "metadata": {},
   "outputs": [
    {
     "data": {
      "text/plain": [
       "((-70.001, -60.0]        2\n",
       " (-60.0, -50.0]          1\n",
       " (-50.0, -40.0]          4\n",
       " (-40.0, -30.0]          2\n",
       " (-30.0, -20.0]         20\n",
       " (-20.0, -10.0]         77\n",
       " (-10.0, 0.0]        60429\n",
       " (0.0, 10.0]           797\n",
       " (10.0, 20.0]           32\n",
       " (20.0, 30.0]            4\n",
       " (30.0, 40.0]            0\n",
       " Name: 4001450_diff, dtype: int64,\n",
       " (-70.001, -60.0]    0.000033\n",
       " (-60.0, -50.0]      0.000016\n",
       " (-50.0, -40.0]      0.000065\n",
       " (-40.0, -30.0]      0.000033\n",
       " (-30.0, -20.0]      0.000326\n",
       " (-20.0, -10.0]      0.001255\n",
       " (-10.0, 0.0]        0.984699\n",
       " (0.0, 10.0]         0.012987\n",
       " (10.0, 20.0]        0.000521\n",
       " (20.0, 30.0]        0.000065\n",
       " (30.0, 40.0]        0.000000\n",
       " Name: 4001450_diff, dtype: float64)"
      ]
     },
     "execution_count": 23,
     "metadata": {},
     "output_type": "execute_result"
    }
   ],
   "source": [
    "obs_gpm_diff_df[st_code].value_counts(bins=bins).sort_index(), obs_gpm_diff_df[st_code].value_counts(bins=bins, normalize=True).sort_index()"
   ]
  },
  {
   "cell_type": "markdown",
   "id": "b4fc4a12",
   "metadata": {},
   "source": [
    "#### 데이터 주로 분포하고 있는 -10~10사이의 분포 파악"
   ]
  },
  {
   "cell_type": "code",
   "execution_count": 24,
   "id": "ed3fd8d1",
   "metadata": {},
   "outputs": [
    {
     "data": {
      "text/plain": [
       "[-10, -9, -8, -7, -6, -5, -4, -3, -2, -1, 0, 1, 2, 3, 4, 5, 6, 7, 8, 9, 10]"
      ]
     },
     "execution_count": 24,
     "metadata": {},
     "output_type": "execute_result"
    }
   ],
   "source": [
    "bins_detail = list(range(-10, 11, 1))\n",
    "bins_detail"
   ]
  },
  {
   "cell_type": "code",
   "execution_count": 25,
   "id": "5880b881",
   "metadata": {},
   "outputs": [
    {
     "data": {
      "text/plain": [
       "((-10.001, -9.0]       17\n",
       " (-9.0, -8.0]          18\n",
       " (-8.0, -7.0]          18\n",
       " (-7.0, -6.0]          47\n",
       " (-6.0, -5.0]          52\n",
       " (-5.0, -4.0]          82\n",
       " (-4.0, -3.0]         157\n",
       " (-3.0, -2.0]         355\n",
       " (-2.0, -1.0]        1428\n",
       " (-1.0, 0.0]        58258\n",
       " (0.0, 1.0]           290\n",
       " (1.0, 2.0]           174\n",
       " (2.0, 3.0]           116\n",
       " (3.0, 4.0]            85\n",
       " (4.0, 5.0]            42\n",
       " (5.0, 6.0]            34\n",
       " (6.0, 7.0]            19\n",
       " (7.0, 8.0]            14\n",
       " (8.0, 9.0]            15\n",
       " (9.0, 10.0]            8\n",
       " Name: 4001450_diff, dtype: int64,\n",
       " (-10.001, -9.0]    0.000277\n",
       " (-9.0, -8.0]       0.000293\n",
       " (-8.0, -7.0]       0.000293\n",
       " (-7.0, -6.0]       0.000766\n",
       " (-6.0, -5.0]       0.000847\n",
       " (-5.0, -4.0]       0.001336\n",
       " (-4.0, -3.0]       0.002558\n",
       " (-3.0, -2.0]       0.005785\n",
       " (-2.0, -1.0]       0.023269\n",
       " (-1.0, 0.0]        0.949322\n",
       " (0.0, 1.0]         0.004726\n",
       " (1.0, 2.0]         0.002835\n",
       " (2.0, 3.0]         0.001890\n",
       " (3.0, 4.0]         0.001385\n",
       " (4.0, 5.0]         0.000684\n",
       " (5.0, 6.0]         0.000554\n",
       " (6.0, 7.0]         0.000310\n",
       " (7.0, 8.0]         0.000228\n",
       " (8.0, 9.0]         0.000244\n",
       " (9.0, 10.0]        0.000130\n",
       " Name: 4001450_diff, dtype: float64)"
      ]
     },
     "execution_count": 25,
     "metadata": {},
     "output_type": "execute_result"
    }
   ],
   "source": [
    "obs_gpm_diff_df[st_code].value_counts(bins=bins_detail).sort_index(), obs_gpm_diff_df[st_code].value_counts(bins=bins_detail, normalize=True).sort_index()"
   ]
  },
  {
   "cell_type": "code",
   "execution_count": 26,
   "id": "7602f6cc",
   "metadata": {},
   "outputs": [
    {
     "data": {
      "text/plain": [
       "<AxesSubplot:>"
      ]
     },
     "execution_count": 26,
     "metadata": {},
     "output_type": "execute_result"
    },
    {
     "data": {
      "image/png": "[encoded data removed]",
      "text/plain": [
       "<Figure size 1080x360 with 1 Axes>"
      ]
     },
     "metadata": {},
     "output_type": "display_data"
    }
   ],
   "source": [
    "obs_gpm_diff_df[st_code].hist(bins=bins_detail, figsize=(15,5))"
   ]
  },
  {
   "cell_type": "code",
   "execution_count": null,
   "id": "5b6189aa",
   "metadata": {},
   "outputs": [],
   "source": []
  },
  {
   "cell_type": "markdown",
   "id": "5bba7563",
   "metadata": {},
   "source": [
    "### 2.4 \"4003420\" 강우관측소 (Done)"
   ]
  },
  {
   "cell_type": "markdown",
   "id": "a34619d5",
   "metadata": {},
   "source": [
    "#### Violin Plot을 활용하여 [GPM관측 데이터 - 지상관측] 데이터의 분포특성 (Min, Max, 분포 등) 분석"
   ]
  },
  {
   "cell_type": "code",
   "execution_count": 27,
   "id": "e7b3e31b",
   "metadata": {},
   "outputs": [
    {
     "data": {
      "image/png": "[encoded data removed]",
      "text/plain": [
       "<Figure size 720x576 with 1 Axes>"
      ]
     },
     "metadata": {},
     "output_type": "display_data"
    }
   ],
   "source": [
    "st_code = obs_gpm_diff_df.columns[3]\n",
    "sns.violinplot(y=obs_gpm_diff_df[st_code])\n",
    "plt.ylim(-100, 100)\n",
    "plt.yticks(fontsize=12)\n",
    "plt.ylabel('Difference = IMERG Observation (mm/h) - Station Observation (mm/h)', fontsize=12)\n",
    "plt.show()"
   ]
  },
  {
   "cell_type": "markdown",
   "id": "a6765b7e",
   "metadata": {},
   "source": [
    "#### 데이터 차이의 Min ~ Max를 고려하여 데이터로 분포 파악"
   ]
  },
  {
   "cell_type": "code",
   "execution_count": 28,
   "id": "11a14947",
   "metadata": {},
   "outputs": [
    {
     "data": {
      "text/plain": [
       "[-50, -40, -30, -20, -10, 0, 10, 20, 30, 40, 50, 60]"
      ]
     },
     "execution_count": 28,
     "metadata": {},
     "output_type": "execute_result"
    }
   ],
   "source": [
    "bins = list(range(-50, 70, 10))\n",
    "bins"
   ]
  },
  {
   "cell_type": "code",
   "execution_count": 29,
   "id": "08d003f2",
   "metadata": {},
   "outputs": [
    {
     "data": {
      "text/plain": [
       "((-50.001, -40.0]        1\n",
       " (-40.0, -30.0]          0\n",
       " (-30.0, -20.0]         11\n",
       " (-20.0, -10.0]         57\n",
       " (-10.0, 0.0]        60419\n",
       " (0.0, 10.0]           844\n",
       " (10.0, 20.0]           30\n",
       " (20.0, 30.0]            4\n",
       " (30.0, 40.0]            0\n",
       " (40.0, 50.0]            1\n",
       " (50.0, 60.0]            0\n",
       " Name: 4003420_diff, dtype: int64,\n",
       " (-50.001, -40.0]    0.000016\n",
       " (-40.0, -30.0]      0.000000\n",
       " (-30.0, -20.0]      0.000179\n",
       " (-20.0, -10.0]      0.000929\n",
       " (-10.0, 0.0]        0.984536\n",
       " (0.0, 10.0]         0.013753\n",
       " (10.0, 20.0]        0.000489\n",
       " (20.0, 30.0]        0.000065\n",
       " (30.0, 40.0]        0.000000\n",
       " (40.0, 50.0]        0.000016\n",
       " (50.0, 60.0]        0.000000\n",
       " Name: 4003420_diff, dtype: float64)"
      ]
     },
     "execution_count": 29,
     "metadata": {},
     "output_type": "execute_result"
    }
   ],
   "source": [
    "obs_gpm_diff_df[st_code].value_counts(bins=bins).sort_index(), obs_gpm_diff_df[st_code].value_counts(bins=bins, normalize=True).sort_index()"
   ]
  },
  {
   "cell_type": "markdown",
   "id": "8d4e5b3a",
   "metadata": {},
   "source": [
    "#### 데이터 주로 분포하고 있는 -10~10사이의 분포 파악"
   ]
  },
  {
   "cell_type": "code",
   "execution_count": 30,
   "id": "c9c3360f",
   "metadata": {},
   "outputs": [
    {
     "data": {
      "text/plain": [
       "[-10, -9, -8, -7, -6, -5, -4, -3, -2, -1, 0, 1, 2, 3, 4, 5, 6, 7, 8, 9, 10]"
      ]
     },
     "execution_count": 30,
     "metadata": {},
     "output_type": "execute_result"
    }
   ],
   "source": [
    "bins_detail = list(range(-10, 11, 1))\n",
    "bins_detail"
   ]
  },
  {
   "cell_type": "code",
   "execution_count": 31,
   "id": "64713b7e",
   "metadata": {},
   "outputs": [
    {
     "data": {
      "text/plain": [
       "((-10.001, -9.0]       13\n",
       " (-9.0, -8.0]          17\n",
       " (-8.0, -7.0]          22\n",
       " (-7.0, -6.0]          34\n",
       " (-6.0, -5.0]          42\n",
       " (-5.0, -4.0]          75\n",
       " (-4.0, -3.0]         102\n",
       " (-3.0, -2.0]         244\n",
       " (-2.0, -1.0]        1044\n",
       " (-1.0, 0.0]        58826\n",
       " (0.0, 1.0]           326\n",
       " (1.0, 2.0]           199\n",
       " (2.0, 3.0]           117\n",
       " (3.0, 4.0]            76\n",
       " (4.0, 5.0]            50\n",
       " (5.0, 6.0]            38\n",
       " (6.0, 7.0]            19\n",
       " (7.0, 8.0]             7\n",
       " (8.0, 9.0]             2\n",
       " (9.0, 10.0]           10\n",
       " Name: 4003420_diff, dtype: int64,\n",
       " (-10.001, -9.0]    0.000212\n",
       " (-9.0, -8.0]       0.000277\n",
       " (-8.0, -7.0]       0.000358\n",
       " (-7.0, -6.0]       0.000554\n",
       " (-6.0, -5.0]       0.000684\n",
       " (-5.0, -4.0]       0.001222\n",
       " (-4.0, -3.0]       0.001662\n",
       " (-3.0, -2.0]       0.003976\n",
       " (-2.0, -1.0]       0.017012\n",
       " (-1.0, 0.0]        0.958578\n",
       " (0.0, 1.0]         0.005312\n",
       " (1.0, 2.0]         0.003243\n",
       " (2.0, 3.0]         0.001907\n",
       " (3.0, 4.0]         0.001238\n",
       " (4.0, 5.0]         0.000815\n",
       " (5.0, 6.0]         0.000619\n",
       " (6.0, 7.0]         0.000310\n",
       " (7.0, 8.0]         0.000114\n",
       " (8.0, 9.0]         0.000033\n",
       " (9.0, 10.0]        0.000163\n",
       " Name: 4003420_diff, dtype: float64)"
      ]
     },
     "execution_count": 31,
     "metadata": {},
     "output_type": "execute_result"
    }
   ],
   "source": [
    "obs_gpm_diff_df[st_code].value_counts(bins=bins_detail).sort_index(), obs_gpm_diff_df[st_code].value_counts(bins=bins_detail, normalize=True).sort_index()"
   ]
  },
  {
   "cell_type": "code",
   "execution_count": 32,
   "id": "5e405b03",
   "metadata": {},
   "outputs": [
    {
     "data": {
      "text/plain": [
       "<AxesSubplot:>"
      ]
     },
     "execution_count": 32,
     "metadata": {},
     "output_type": "execute_result"
    },
    {
     "data": {
      "image/png": "[encoded data removed]",
      "text/plain": [
       "<Figure size 1080x360 with 1 Axes>"
      ]
     },
     "metadata": {},
     "output_type": "display_data"
    }
   ],
   "source": [
    "obs_gpm_diff_df[st_code].hist(bins=bins_detail, figsize=(15,5))"
   ]
  },
  {
   "cell_type": "markdown",
   "id": "46bb2c02",
   "metadata": {},
   "source": [
    "### 2.5 \"4007450\" 강우관측소 (Done)"
   ]
  },
  {
   "cell_type": "markdown",
   "id": "1a66b7ce",
   "metadata": {},
   "source": [
    "#### Violin Plot을 활용하여 [GPM관측 데이터 - 지상관측] 데이터의 분포특성 (Min, Max, 분포 등) 분석"
   ]
  },
  {
   "cell_type": "code",
   "execution_count": 33,
   "id": "fc620886",
   "metadata": {},
   "outputs": [
    {
     "data": {
      "image/png": "[encoded data removed]",
      "text/plain": [
       "<Figure size 720x576 with 1 Axes>"
      ]
     },
     "metadata": {},
     "output_type": "display_data"
    }
   ],
   "source": [
    "st_code = obs_gpm_diff_df.columns[4]\n",
    "sns.violinplot(y=obs_gpm_diff_df[st_code])\n",
    "plt.ylim(-100, 100)\n",
    "plt.yticks(fontsize=12)\n",
    "plt.ylabel('Difference = IMERG Observation (mm/h) - Station Observation (mm/h)', fontsize=12)\n",
    "plt.show()"
   ]
  },
  {
   "cell_type": "markdown",
   "id": "7f88d674",
   "metadata": {},
   "source": [
    "#### 데이터 차이의 Min ~ Max를 고려하여 데이터로 분포 파악"
   ]
  },
  {
   "cell_type": "code",
   "execution_count": 34,
   "id": "46fc685a",
   "metadata": {},
   "outputs": [
    {
     "data": {
      "text/plain": [
       "[-90, -80, -70, -60, -50, -40, -30, -20, -10, 0, 10, 20, 30, 40, 50]"
      ]
     },
     "execution_count": 34,
     "metadata": {},
     "output_type": "execute_result"
    }
   ],
   "source": [
    "bins = list(range(-90, 60, 10))\n",
    "bins"
   ]
  },
  {
   "cell_type": "code",
   "execution_count": 35,
   "id": "e3244284",
   "metadata": {},
   "outputs": [
    {
     "data": {
      "text/plain": [
       "((-90.001, -80.0]        1\n",
       " (-80.0, -70.0]          0\n",
       " (-70.0, -60.0]          0\n",
       " (-60.0, -50.0]          0\n",
       " (-50.0, -40.0]          2\n",
       " (-40.0, -30.0]          6\n",
       " (-30.0, -20.0]         16\n",
       " (-20.0, -10.0]         62\n",
       " (-10.0, 0.0]        60387\n",
       " (0.0, 10.0]           861\n",
       " (10.0, 20.0]           25\n",
       " (20.0, 30.0]            8\n",
       " (30.0, 40.0]            0\n",
       " (40.0, 50.0]            0\n",
       " Name: 4007450_diff, dtype: int64,\n",
       " (-90.001, -80.0]    0.000016\n",
       " (-80.0, -70.0]      0.000000\n",
       " (-70.0, -60.0]      0.000000\n",
       " (-60.0, -50.0]      0.000000\n",
       " (-50.0, -40.0]      0.000033\n",
       " (-40.0, -30.0]      0.000098\n",
       " (-30.0, -20.0]      0.000261\n",
       " (-20.0, -10.0]      0.001010\n",
       " (-10.0, 0.0]        0.984014\n",
       " (0.0, 10.0]         0.014030\n",
       " (10.0, 20.0]        0.000407\n",
       " (20.0, 30.0]        0.000130\n",
       " (30.0, 40.0]        0.000000\n",
       " (40.0, 50.0]        0.000000\n",
       " Name: 4007450_diff, dtype: float64)"
      ]
     },
     "execution_count": 35,
     "metadata": {},
     "output_type": "execute_result"
    }
   ],
   "source": [
    "obs_gpm_diff_df[st_code].value_counts(bins=bins).sort_index(), obs_gpm_diff_df[st_code].value_counts(bins=bins, normalize=True).sort_index()"
   ]
  },
  {
   "cell_type": "markdown",
   "id": "9e5495bc",
   "metadata": {},
   "source": [
    "#### 데이터 주로 분포하고 있는 -10~10사이의 분포 파악"
   ]
  },
  {
   "cell_type": "code",
   "execution_count": 36,
   "id": "f00dfb90",
   "metadata": {},
   "outputs": [
    {
     "data": {
      "text/plain": [
       "[-10, -9, -8, -7, -6, -5, -4, -3, -2, -1, 0, 1, 2, 3, 4, 5, 6, 7, 8, 9, 10]"
      ]
     },
     "execution_count": 36,
     "metadata": {},
     "output_type": "execute_result"
    }
   ],
   "source": [
    "bins_detail = list(range(-10, 11, 1))\n",
    "bins_detail"
   ]
  },
  {
   "cell_type": "code",
   "execution_count": 37,
   "id": "f11e5bde",
   "metadata": {},
   "outputs": [
    {
     "data": {
      "text/plain": [
       "((-10.001, -9.0]       23\n",
       " (-9.0, -8.0]          32\n",
       " (-8.0, -7.0]          29\n",
       " (-7.0, -6.0]          37\n",
       " (-6.0, -5.0]          60\n",
       " (-5.0, -4.0]          76\n",
       " (-4.0, -3.0]         115\n",
       " (-3.0, -2.0]         271\n",
       " (-2.0, -1.0]         932\n",
       " (-1.0, 0.0]        58814\n",
       " (0.0, 1.0]           300\n",
       " (1.0, 2.0]           212\n",
       " (2.0, 3.0]           120\n",
       " (3.0, 4.0]            82\n",
       " (4.0, 5.0]            42\n",
       " (5.0, 6.0]            32\n",
       " (6.0, 7.0]            28\n",
       " (7.0, 8.0]            22\n",
       " (8.0, 9.0]            12\n",
       " (9.0, 10.0]           11\n",
       " Name: 4007450_diff, dtype: int64,\n",
       " (-10.001, -9.0]    0.000375\n",
       " (-9.0, -8.0]       0.000521\n",
       " (-8.0, -7.0]       0.000473\n",
       " (-7.0, -6.0]       0.000603\n",
       " (-6.0, -5.0]       0.000978\n",
       " (-5.0, -4.0]       0.001238\n",
       " (-4.0, -3.0]       0.001874\n",
       " (-3.0, -2.0]       0.004416\n",
       " (-2.0, -1.0]       0.015187\n",
       " (-1.0, 0.0]        0.958382\n",
       " (0.0, 1.0]         0.004889\n",
       " (1.0, 2.0]         0.003455\n",
       " (2.0, 3.0]         0.001955\n",
       " (3.0, 4.0]         0.001336\n",
       " (4.0, 5.0]         0.000684\n",
       " (5.0, 6.0]         0.000521\n",
       " (6.0, 7.0]         0.000456\n",
       " (7.0, 8.0]         0.000358\n",
       " (8.0, 9.0]         0.000196\n",
       " (9.0, 10.0]        0.000179\n",
       " Name: 4007450_diff, dtype: float64)"
      ]
     },
     "execution_count": 37,
     "metadata": {},
     "output_type": "execute_result"
    }
   ],
   "source": [
    "obs_gpm_diff_df[st_code].value_counts(bins=bins_detail).sort_index(), obs_gpm_diff_df[st_code].value_counts(bins=bins_detail, normalize=True).sort_index()"
   ]
  },
  {
   "cell_type": "code",
   "execution_count": 38,
   "id": "98763896",
   "metadata": {},
   "outputs": [
    {
     "data": {
      "text/plain": [
       "<AxesSubplot:>"
      ]
     },
     "execution_count": 38,
     "metadata": {},
     "output_type": "execute_result"
    },
    {
     "data": {
      "image/png": "[encoded data removed]",
      "text/plain": [
       "<Figure size 1080x360 with 1 Axes>"
      ]
     },
     "metadata": {},
     "output_type": "display_data"
    }
   ],
   "source": [
    "obs_gpm_diff_df[st_code].hist(bins=bins_detail, figsize=(15,5))"
   ]
  },
  {
   "cell_type": "code",
   "execution_count": null,
   "id": "25469f3a",
   "metadata": {},
   "outputs": [],
   "source": []
  },
  {
   "cell_type": "markdown",
   "id": "01293454",
   "metadata": {},
   "source": [
    "### 2.6 \"4007470\" 강우관측소"
   ]
  },
  {
   "cell_type": "markdown",
   "id": "e5baf310",
   "metadata": {},
   "source": [
    "#### Violin Plot을 활용하여 [GPM관측 데이터 - 지상관측] 데이터의 분포특성 (Min, Max, 분포 등) 분석"
   ]
  },
  {
   "cell_type": "code",
   "execution_count": 39,
   "id": "70e81a8c",
   "metadata": {},
   "outputs": [
    {
     "data": {
      "image/png": "[encoded data removed]",
      "text/plain": [
       "<Figure size 720x576 with 1 Axes>"
      ]
     },
     "metadata": {},
     "output_type": "display_data"
    }
   ],
   "source": [
    "st_code = obs_gpm_diff_df.columns[5]\n",
    "sns.violinplot(y=obs_gpm_diff_df[st_code])\n",
    "plt.ylim(-100, 100)\n",
    "plt.yticks(fontsize=12)\n",
    "plt.ylabel('Difference = IMERG Observation (mm/h) - Station Observation (mm/h)', fontsize=12)\n",
    "plt.show()"
   ]
  },
  {
   "cell_type": "markdown",
   "id": "0305b3cf",
   "metadata": {},
   "source": [
    "#### 데이터 차이의 Min ~ Max를 고려하여 데이터로 분포 파악"
   ]
  },
  {
   "cell_type": "code",
   "execution_count": 40,
   "id": "7deed030",
   "metadata": {},
   "outputs": [
    {
     "data": {
      "text/plain": [
       "[-50, -40, -30, -20, -10, 0, 10, 20, 30, 40]"
      ]
     },
     "execution_count": 40,
     "metadata": {},
     "output_type": "execute_result"
    }
   ],
   "source": [
    "bins = list(range(-50, 50, 10))\n",
    "bins"
   ]
  },
  {
   "cell_type": "code",
   "execution_count": 41,
   "id": "1966b502",
   "metadata": {},
   "outputs": [
    {
     "data": {
      "text/plain": [
       "((-50.001, -40.0]        4\n",
       " (-40.0, -30.0]          8\n",
       " (-30.0, -20.0]         14\n",
       " (-20.0, -10.0]         76\n",
       " (-10.0, 0.0]        60405\n",
       " (0.0, 10.0]           826\n",
       " (10.0, 20.0]           24\n",
       " (20.0, 30.0]            7\n",
       " (30.0, 40.0]            3\n",
       " Name: 4007470_diff, dtype: int64,\n",
       " (-50.001, -40.0]    0.000065\n",
       " (-40.0, -30.0]      0.000130\n",
       " (-30.0, -20.0]      0.000228\n",
       " (-20.0, -10.0]      0.001238\n",
       " (-10.0, 0.0]        0.984308\n",
       " (0.0, 10.0]         0.013460\n",
       " (10.0, 20.0]        0.000391\n",
       " (20.0, 30.0]        0.000114\n",
       " (30.0, 40.0]        0.000049\n",
       " Name: 4007470_diff, dtype: float64)"
      ]
     },
     "execution_count": 41,
     "metadata": {},
     "output_type": "execute_result"
    }
   ],
   "source": [
    "obs_gpm_diff_df[st_code].value_counts(bins=bins).sort_index(), obs_gpm_diff_df[st_code].value_counts(bins=bins, normalize=True).sort_index()"
   ]
  },
  {
   "cell_type": "markdown",
   "id": "c074a98c",
   "metadata": {},
   "source": [
    "#### 데이터 주로 분포하고 있는 -10~10사이의 분포 파악"
   ]
  },
  {
   "cell_type": "code",
   "execution_count": 42,
   "id": "f86eb453",
   "metadata": {},
   "outputs": [
    {
     "data": {
      "text/plain": [
       "[-10, -9, -8, -7, -6, -5, -4, -3, -2, -1, 0, 1, 2, 3, 4, 5, 6, 7, 8, 9, 10]"
      ]
     },
     "execution_count": 42,
     "metadata": {},
     "output_type": "execute_result"
    }
   ],
   "source": [
    "bins_detail = list(range(-10, 11, 1))\n",
    "bins_detail"
   ]
  },
  {
   "cell_type": "code",
   "execution_count": 43,
   "id": "515cf957",
   "metadata": {},
   "outputs": [
    {
     "data": {
      "text/plain": [
       "((-10.001, -9.0]       28\n",
       " (-9.0, -8.0]          28\n",
       " (-8.0, -7.0]          32\n",
       " (-7.0, -6.0]          31\n",
       " (-6.0, -5.0]          46\n",
       " (-5.0, -4.0]         103\n",
       " (-4.0, -3.0]         124\n",
       " (-3.0, -2.0]         270\n",
       " (-2.0, -1.0]         917\n",
       " (-1.0, 0.0]        58831\n",
       " (0.0, 1.0]           295\n",
       " (1.0, 2.0]           211\n",
       " (2.0, 3.0]           102\n",
       " (3.0, 4.0]            68\n",
       " (4.0, 5.0]            59\n",
       " (5.0, 6.0]            21\n",
       " (6.0, 7.0]            31\n",
       " (7.0, 8.0]            19\n",
       " (8.0, 9.0]            12\n",
       " (9.0, 10.0]            8\n",
       " Name: 4007470_diff, dtype: int64,\n",
       " (-10.001, -9.0]    0.000456\n",
       " (-9.0, -8.0]       0.000456\n",
       " (-8.0, -7.0]       0.000521\n",
       " (-7.0, -6.0]       0.000505\n",
       " (-6.0, -5.0]       0.000750\n",
       " (-5.0, -4.0]       0.001678\n",
       " (-4.0, -3.0]       0.002021\n",
       " (-3.0, -2.0]       0.004400\n",
       " (-2.0, -1.0]       0.014943\n",
       " (-1.0, 0.0]        0.958659\n",
       " (0.0, 1.0]         0.004807\n",
       " (1.0, 2.0]         0.003438\n",
       " (2.0, 3.0]         0.001662\n",
       " (3.0, 4.0]         0.001108\n",
       " (4.0, 5.0]         0.000961\n",
       " (5.0, 6.0]         0.000342\n",
       " (6.0, 7.0]         0.000505\n",
       " (7.0, 8.0]         0.000310\n",
       " (8.0, 9.0]         0.000196\n",
       " (9.0, 10.0]        0.000130\n",
       " Name: 4007470_diff, dtype: float64)"
      ]
     },
     "execution_count": 43,
     "metadata": {},
     "output_type": "execute_result"
    }
   ],
   "source": [
    "obs_gpm_diff_df[st_code].value_counts(bins=bins_detail).sort_index(), obs_gpm_diff_df[st_code].value_counts(bins=bins_detail, normalize=True).sort_index()"
   ]
  },
  {
   "cell_type": "code",
   "execution_count": 44,
   "id": "7d7577ed",
   "metadata": {},
   "outputs": [
    {
     "data": {
      "text/plain": [
       "<AxesSubplot:>"
      ]
     },
     "execution_count": 44,
     "metadata": {},
     "output_type": "execute_result"
    },
    {
     "data": {
      "image/png": "[encoded data removed]",
      "text/plain": [
       "<Figure size 1080x360 with 1 Axes>"
      ]
     },
     "metadata": {},
     "output_type": "display_data"
    }
   ],
   "source": [
    "obs_gpm_diff_df[st_code].hist(bins=bins_detail, figsize=(15,5))"
   ]
  },
  {
   "cell_type": "code",
   "execution_count": null,
   "id": "590fc266",
   "metadata": {},
   "outputs": [],
   "source": []
  },
  {
   "cell_type": "markdown",
   "id": "edf736ad",
   "metadata": {},
   "source": [
    "### 2.7 \"4007472\" 강우관측소 (Done)"
   ]
  },
  {
   "cell_type": "markdown",
   "id": "d00bc3dd",
   "metadata": {},
   "source": [
    "#### Violin Plot을 활용하여 [GPM관측 데이터 - 지상관측] 데이터의 분포특성 (Min, Max, 분포 등) 분석"
   ]
  },
  {
   "cell_type": "code",
   "execution_count": 45,
   "id": "c87aa28f",
   "metadata": {},
   "outputs": [
    {
     "data": {
      "image/png": "[encoded data removed]",
      "text/plain": [
       "<Figure size 720x576 with 1 Axes>"
      ]
     },
     "metadata": {},
     "output_type": "display_data"
    }
   ],
   "source": [
    "st_code = obs_gpm_diff_df.columns[6]\n",
    "sns.violinplot(y=obs_gpm_diff_df[st_code])\n",
    "plt.ylim(-100, 100)\n",
    "plt.yticks(fontsize=12)\n",
    "plt.ylabel('Difference = IMERG Observation (mm/h) - Station Observation (mm/h)', fontsize=12)\n",
    "plt.show()"
   ]
  },
  {
   "cell_type": "markdown",
   "id": "91fe5d6c",
   "metadata": {},
   "source": [
    "#### 데이터 차이의 Min ~ Max를 고려하여 데이터로 분포 파악"
   ]
  },
  {
   "cell_type": "code",
   "execution_count": 46,
   "id": "ae326683",
   "metadata": {},
   "outputs": [
    {
     "data": {
      "text/plain": [
       "[-70, -60, -50, -40, -30, -20, -10, 0, 10, 20, 30, 40]"
      ]
     },
     "execution_count": 46,
     "metadata": {},
     "output_type": "execute_result"
    }
   ],
   "source": [
    "bins = list(range(-70, 50, 10))\n",
    "bins"
   ]
  },
  {
   "cell_type": "code",
   "execution_count": 47,
   "id": "45965ccc",
   "metadata": {},
   "outputs": [
    {
     "data": {
      "text/plain": [
       "((-70.001, -60.0]        1\n",
       " (-60.0, -50.0]          1\n",
       " (-50.0, -40.0]          0\n",
       " (-40.0, -30.0]          4\n",
       " (-30.0, -20.0]         11\n",
       " (-20.0, -10.0]         71\n",
       " (-10.0, 0.0]        60371\n",
       " (0.0, 10.0]           871\n",
       " (10.0, 20.0]           31\n",
       " (20.0, 30.0]            6\n",
       " (30.0, 40.0]            1\n",
       " Name: 4007472_diff, dtype: int64,\n",
       " (-70.001, -60.0]    0.000016\n",
       " (-60.0, -50.0]      0.000016\n",
       " (-50.0, -40.0]      0.000000\n",
       " (-40.0, -30.0]      0.000065\n",
       " (-30.0, -20.0]      0.000179\n",
       " (-20.0, -10.0]      0.001157\n",
       " (-10.0, 0.0]        0.983754\n",
       " (0.0, 10.0]         0.014193\n",
       " (10.0, 20.0]        0.000505\n",
       " (20.0, 30.0]        0.000098\n",
       " (30.0, 40.0]        0.000016\n",
       " Name: 4007472_diff, dtype: float64)"
      ]
     },
     "execution_count": 47,
     "metadata": {},
     "output_type": "execute_result"
    }
   ],
   "source": [
    "obs_gpm_diff_df[st_code].value_counts(bins=bins).sort_index(), obs_gpm_diff_df[st_code].value_counts(bins=bins, normalize=True).sort_index()"
   ]
  },
  {
   "cell_type": "markdown",
   "id": "17100388",
   "metadata": {},
   "source": [
    "#### 데이터 주로 분포하고 있는 -10~10사이의 분포 파악"
   ]
  },
  {
   "cell_type": "code",
   "execution_count": 48,
   "id": "4a0e5cfc",
   "metadata": {},
   "outputs": [
    {
     "data": {
      "text/plain": [
       "[-10, -9, -8, -7, -6, -5, -4, -3, -2, -1, 0, 1, 2, 3, 4, 5, 6, 7, 8, 9, 10]"
      ]
     },
     "execution_count": 48,
     "metadata": {},
     "output_type": "execute_result"
    }
   ],
   "source": [
    "bins_detail = list(range(-10, 11, 1))\n",
    "bins_detail"
   ]
  },
  {
   "cell_type": "code",
   "execution_count": 49,
   "id": "199a9067",
   "metadata": {},
   "outputs": [
    {
     "data": {
      "text/plain": [
       "((-10.001, -9.0]       28\n",
       " (-9.0, -8.0]          24\n",
       " (-8.0, -7.0]          24\n",
       " (-7.0, -6.0]          31\n",
       " (-6.0, -5.0]          46\n",
       " (-5.0, -4.0]          90\n",
       " (-4.0, -3.0]         101\n",
       " (-3.0, -2.0]         256\n",
       " (-2.0, -1.0]         968\n",
       " (-1.0, 0.0]        58806\n",
       " (0.0, 1.0]           309\n",
       " (1.0, 2.0]           195\n",
       " (2.0, 3.0]           132\n",
       " (3.0, 4.0]            86\n",
       " (4.0, 5.0]            49\n",
       " (5.0, 6.0]            33\n",
       " (6.0, 7.0]            25\n",
       " (7.0, 8.0]            16\n",
       " (8.0, 9.0]            11\n",
       " (9.0, 10.0]           15\n",
       " Name: 4007472_diff, dtype: int64,\n",
       " (-10.001, -9.0]    0.000456\n",
       " (-9.0, -8.0]       0.000391\n",
       " (-8.0, -7.0]       0.000391\n",
       " (-7.0, -6.0]       0.000505\n",
       " (-6.0, -5.0]       0.000750\n",
       " (-5.0, -4.0]       0.001467\n",
       " (-4.0, -3.0]       0.001646\n",
       " (-3.0, -2.0]       0.004172\n",
       " (-2.0, -1.0]       0.015774\n",
       " (-1.0, 0.0]        0.958252\n",
       " (0.0, 1.0]         0.005035\n",
       " (1.0, 2.0]         0.003178\n",
       " (2.0, 3.0]         0.002151\n",
       " (3.0, 4.0]         0.001401\n",
       " (4.0, 5.0]         0.000798\n",
       " (5.0, 6.0]         0.000538\n",
       " (6.0, 7.0]         0.000407\n",
       " (7.0, 8.0]         0.000261\n",
       " (8.0, 9.0]         0.000179\n",
       " (9.0, 10.0]        0.000244\n",
       " Name: 4007472_diff, dtype: float64)"
      ]
     },
     "execution_count": 49,
     "metadata": {},
     "output_type": "execute_result"
    }
   ],
   "source": [
    "obs_gpm_diff_df[st_code].value_counts(bins=bins_detail).sort_index(), obs_gpm_diff_df[st_code].value_counts(bins=bins_detail, normalize=True).sort_index()"
   ]
  },
  {
   "cell_type": "code",
   "execution_count": 50,
   "id": "09442db2",
   "metadata": {},
   "outputs": [
    {
     "data": {
      "text/plain": [
       "<AxesSubplot:>"
      ]
     },
     "execution_count": 50,
     "metadata": {},
     "output_type": "execute_result"
    },
    {
     "data": {
      "image/png": "[encoded data removed]",
      "text/plain": [
       "<Figure size 1080x360 with 1 Axes>"
      ]
     },
     "metadata": {},
     "output_type": "display_data"
    }
   ],
   "source": [
    "obs_gpm_diff_df[st_code].hist(bins=bins_detail, figsize=(15,5))"
   ]
  },
  {
   "cell_type": "code",
   "execution_count": null,
   "id": "b57ec424",
   "metadata": {},
   "outputs": [],
   "source": []
  },
  {
   "cell_type": "markdown",
   "id": "dfcf1b5f",
   "metadata": {},
   "source": [
    "### 2.8 \"4007474\" 강우관측소"
   ]
  },
  {
   "cell_type": "markdown",
   "id": "fdfe428b",
   "metadata": {},
   "source": [
    "#### Violin Plot을 활용하여 [GPM관측 데이터 - 지상관측] 데이터의 분포특성 (Min, Max, 분포 등) 분석"
   ]
  },
  {
   "cell_type": "code",
   "execution_count": 51,
   "id": "87794c24",
   "metadata": {},
   "outputs": [
    {
     "data": {
      "image/png": "[encoded data removed]",
      "text/plain": [
       "<Figure size 720x576 with 1 Axes>"
      ]
     },
     "metadata": {},
     "output_type": "display_data"
    }
   ],
   "source": [
    "st_code = obs_gpm_diff_df.columns[7]\n",
    "sns.violinplot(y=obs_gpm_diff_df[st_code])\n",
    "plt.ylim(-100, 100)\n",
    "plt.yticks(fontsize=12)\n",
    "plt.ylabel('Difference = IMERG Observation (mm/h) - Station Observation (mm/h)', fontsize=12)\n",
    "plt.show()"
   ]
  },
  {
   "cell_type": "markdown",
   "id": "08e875d1",
   "metadata": {},
   "source": [
    "#### 데이터 차이의 Min ~ Max를 고려하여 데이터로 분포 파악"
   ]
  },
  {
   "cell_type": "code",
   "execution_count": 52,
   "id": "bdf940fa",
   "metadata": {},
   "outputs": [
    {
     "data": {
      "text/plain": [
       "[-60, -50, -40, -30, -20, -10, 0, 10, 20, 30, 40, 50]"
      ]
     },
     "execution_count": 52,
     "metadata": {},
     "output_type": "execute_result"
    }
   ],
   "source": [
    "bins = list(range(-60, 60, 10))\n",
    "bins"
   ]
  },
  {
   "cell_type": "code",
   "execution_count": 53,
   "id": "250355df",
   "metadata": {},
   "outputs": [
    {
     "data": {
      "text/plain": [
       "((-60.001, -50.0]        1\n",
       " (-50.0, -40.0]          2\n",
       " (-40.0, -30.0]          8\n",
       " (-30.0, -20.0]         23\n",
       " (-20.0, -10.0]         75\n",
       " (-10.0, 0.0]        60352\n",
       " (0.0, 10.0]           864\n",
       " (10.0, 20.0]           33\n",
       " (20.0, 30.0]            5\n",
       " (30.0, 40.0]            4\n",
       " (40.0, 50.0]            1\n",
       " Name: 4007474_diff, dtype: int64,\n",
       " (-60.001, -50.0]    0.000016\n",
       " (-50.0, -40.0]      0.000033\n",
       " (-40.0, -30.0]      0.000130\n",
       " (-30.0, -20.0]      0.000375\n",
       " (-20.0, -10.0]      0.001222\n",
       " (-10.0, 0.0]        0.983444\n",
       " (0.0, 10.0]         0.014079\n",
       " (10.0, 20.0]        0.000538\n",
       " (20.0, 30.0]        0.000081\n",
       " (30.0, 40.0]        0.000065\n",
       " (40.0, 50.0]        0.000016\n",
       " Name: 4007474_diff, dtype: float64)"
      ]
     },
     "execution_count": 53,
     "metadata": {},
     "output_type": "execute_result"
    }
   ],
   "source": [
    "obs_gpm_diff_df[st_code].value_counts(bins=bins).sort_index(), obs_gpm_diff_df[st_code].value_counts(bins=bins, normalize=True).sort_index()"
   ]
  },
  {
   "cell_type": "markdown",
   "id": "c1fa017c",
   "metadata": {},
   "source": [
    "#### 데이터 주로 분포하고 있는 -10~10사이의 분포 파악"
   ]
  },
  {
   "cell_type": "code",
   "execution_count": 54,
   "id": "a7d79791",
   "metadata": {},
   "outputs": [
    {
     "data": {
      "text/plain": [
       "[-10, -9, -8, -7, -6, -5, -4, -3, -2, -1, 0, 1, 2, 3, 4, 5, 6, 7, 8, 9, 10]"
      ]
     },
     "execution_count": 54,
     "metadata": {},
     "output_type": "execute_result"
    }
   ],
   "source": [
    "bins_detail = list(range(-10, 11, 1))\n",
    "bins_detail"
   ]
  },
  {
   "cell_type": "code",
   "execution_count": 55,
   "id": "d51ae00b",
   "metadata": {},
   "outputs": [
    {
     "data": {
      "text/plain": [
       "((-10.001, -9.0]       21\n",
       " (-9.0, -8.0]          22\n",
       " (-8.0, -7.0]          45\n",
       " (-7.0, -6.0]          35\n",
       " (-6.0, -5.0]          59\n",
       " (-5.0, -4.0]          82\n",
       " (-4.0, -3.0]         147\n",
       " (-3.0, -2.0]         301\n",
       " (-2.0, -1.0]        1067\n",
       " (-1.0, 0.0]        58574\n",
       " (0.0, 1.0]           338\n",
       " (1.0, 2.0]           199\n",
       " (2.0, 3.0]           122\n",
       " (3.0, 4.0]            72\n",
       " (4.0, 5.0]            49\n",
       " (5.0, 6.0]            26\n",
       " (6.0, 7.0]            24\n",
       " (7.0, 8.0]            19\n",
       " (8.0, 9.0]             4\n",
       " (9.0, 10.0]           11\n",
       " Name: 4007474_diff, dtype: int64,\n",
       " (-10.001, -9.0]    0.000342\n",
       " (-9.0, -8.0]       0.000358\n",
       " (-8.0, -7.0]       0.000733\n",
       " (-7.0, -6.0]       0.000570\n",
       " (-6.0, -5.0]       0.000961\n",
       " (-5.0, -4.0]       0.001336\n",
       " (-4.0, -3.0]       0.002395\n",
       " (-3.0, -2.0]       0.004905\n",
       " (-2.0, -1.0]       0.017387\n",
       " (-1.0, 0.0]        0.954471\n",
       " (0.0, 1.0]         0.005508\n",
       " (1.0, 2.0]         0.003243\n",
       " (2.0, 3.0]         0.001988\n",
       " (3.0, 4.0]         0.001173\n",
       " (4.0, 5.0]         0.000798\n",
       " (5.0, 6.0]         0.000424\n",
       " (6.0, 7.0]         0.000391\n",
       " (7.0, 8.0]         0.000310\n",
       " (8.0, 9.0]         0.000065\n",
       " (9.0, 10.0]        0.000179\n",
       " Name: 4007474_diff, dtype: float64)"
      ]
     },
     "execution_count": 55,
     "metadata": {},
     "output_type": "execute_result"
    }
   ],
   "source": [
    "obs_gpm_diff_df[st_code].value_counts(bins=bins_detail).sort_index(), obs_gpm_diff_df[st_code].value_counts(bins=bins_detail, normalize=True).sort_index()"
   ]
  },
  {
   "cell_type": "code",
   "execution_count": 56,
   "id": "20f28b02",
   "metadata": {},
   "outputs": [
    {
     "data": {
      "text/plain": [
       "<AxesSubplot:>"
      ]
     },
     "execution_count": 56,
     "metadata": {},
     "output_type": "execute_result"
    },
    {
     "data": {
      "image/png": "[encoded data removed]",
      "text/plain": [
       "<Figure size 1080x360 with 1 Axes>"
      ]
     },
     "metadata": {},
     "output_type": "display_data"
    }
   ],
   "source": [
    "obs_gpm_diff_df[st_code].hist(bins=bins_detail, figsize=(15,5))"
   ]
  },
  {
   "cell_type": "code",
   "execution_count": null,
   "id": "5dd30e5e",
   "metadata": {},
   "outputs": [],
   "source": []
  },
  {
   "cell_type": "markdown",
   "id": "c6f5eacf",
   "metadata": {},
   "source": [
    "### 2.9 \"4009460\" 강우관측소"
   ]
  },
  {
   "cell_type": "markdown",
   "id": "148a5d8b",
   "metadata": {},
   "source": [
    "#### Violin Plot을 활용하여 [GPM관측 데이터 - 지상관측] 데이터의 분포특성 (Min, Max, 분포 등) 분석"
   ]
  },
  {
   "cell_type": "code",
   "execution_count": 57,
   "id": "0a11e9c9",
   "metadata": {},
   "outputs": [
    {
     "data": {
      "image/png": "[encoded data removed]",
      "text/plain": [
       "<Figure size 720x576 with 1 Axes>"
      ]
     },
     "metadata": {},
     "output_type": "display_data"
    }
   ],
   "source": [
    "st_code = obs_gpm_diff_df.columns[8]\n",
    "sns.violinplot(y=obs_gpm_diff_df[st_code])\n",
    "plt.ylim(-100, 100)\n",
    "plt.yticks(fontsize=12)\n",
    "plt.ylabel('Difference = IMERG Observation (mm/h) - Station Observation (mm/h)', fontsize=12)\n",
    "plt.show()"
   ]
  },
  {
   "cell_type": "markdown",
   "id": "982d2825",
   "metadata": {},
   "source": [
    "#### 데이터 차이의 Min ~ Max를 고려하여 데이터로 분포 파악"
   ]
  },
  {
   "cell_type": "code",
   "execution_count": 58,
   "id": "f5b1f2c4",
   "metadata": {},
   "outputs": [
    {
     "data": {
      "text/plain": [
       "[-70, -60, -50, -40, -30, -20, -10, 0, 10, 20, 30, 40]"
      ]
     },
     "execution_count": 58,
     "metadata": {},
     "output_type": "execute_result"
    }
   ],
   "source": [
    "bins = list(range(-70, 50, 10))\n",
    "bins"
   ]
  },
  {
   "cell_type": "code",
   "execution_count": 59,
   "id": "16e11f14",
   "metadata": {},
   "outputs": [
    {
     "data": {
      "text/plain": [
       "((-70.001, -60.0]        0\n",
       " (-60.0, -50.0]          1\n",
       " (-50.0, -40.0]          1\n",
       " (-40.0, -30.0]          4\n",
       " (-30.0, -20.0]         16\n",
       " (-20.0, -10.0]         78\n",
       " (-10.0, 0.0]        60352\n",
       " (0.0, 10.0]           881\n",
       " (10.0, 20.0]           25\n",
       " (20.0, 30.0]            7\n",
       " (30.0, 40.0]            2\n",
       " Name: 4009460_diff, dtype: int64,\n",
       " (-70.001, -60.0]    0.000000\n",
       " (-60.0, -50.0]      0.000016\n",
       " (-50.0, -40.0]      0.000016\n",
       " (-40.0, -30.0]      0.000065\n",
       " (-30.0, -20.0]      0.000261\n",
       " (-20.0, -10.0]      0.001271\n",
       " (-10.0, 0.0]        0.983444\n",
       " (0.0, 10.0]         0.014356\n",
       " (10.0, 20.0]        0.000407\n",
       " (20.0, 30.0]        0.000114\n",
       " (30.0, 40.0]        0.000033\n",
       " Name: 4009460_diff, dtype: float64)"
      ]
     },
     "execution_count": 59,
     "metadata": {},
     "output_type": "execute_result"
    }
   ],
   "source": [
    "obs_gpm_diff_df[st_code].value_counts(bins=bins).sort_index(), obs_gpm_diff_df[st_code].value_counts(bins=bins, normalize=True).sort_index()"
   ]
  },
  {
   "cell_type": "markdown",
   "id": "79790e9a",
   "metadata": {},
   "source": [
    "#### 데이터 주로 분포하고 있는 -10~10사이의 분포 파악"
   ]
  },
  {
   "cell_type": "code",
   "execution_count": 60,
   "id": "23b58e35",
   "metadata": {},
   "outputs": [
    {
     "data": {
      "text/plain": [
       "[-10, -9, -8, -7, -6, -5, -4, -3, -2, -1, 0, 1, 2, 3, 4, 5, 6, 7, 8, 9, 10]"
      ]
     },
     "execution_count": 60,
     "metadata": {},
     "output_type": "execute_result"
    }
   ],
   "source": [
    "bins_detail = list(range(-10, 11, 1))\n",
    "bins_detail"
   ]
  },
  {
   "cell_type": "code",
   "execution_count": 61,
   "id": "f0b403e1",
   "metadata": {},
   "outputs": [
    {
     "data": {
      "text/plain": [
       "((-10.001, -9.0]       19\n",
       " (-9.0, -8.0]          11\n",
       " (-8.0, -7.0]          32\n",
       " (-7.0, -6.0]          24\n",
       " (-6.0, -5.0]          46\n",
       " (-5.0, -4.0]          95\n",
       " (-4.0, -3.0]         115\n",
       " (-3.0, -2.0]         229\n",
       " (-2.0, -1.0]         843\n",
       " (-1.0, 0.0]        58941\n",
       " (0.0, 1.0]           308\n",
       " (1.0, 2.0]           209\n",
       " (2.0, 3.0]           138\n",
       " (3.0, 4.0]            82\n",
       " (4.0, 5.0]            51\n",
       " (5.0, 6.0]            31\n",
       " (6.0, 7.0]            21\n",
       " (7.0, 8.0]            18\n",
       " (8.0, 9.0]            13\n",
       " (9.0, 10.0]           10\n",
       " Name: 4009460_diff, dtype: int64,\n",
       " (-10.001, -9.0]    0.000310\n",
       " (-9.0, -8.0]       0.000179\n",
       " (-8.0, -7.0]       0.000521\n",
       " (-7.0, -6.0]       0.000391\n",
       " (-6.0, -5.0]       0.000750\n",
       " (-5.0, -4.0]       0.001548\n",
       " (-4.0, -3.0]       0.001874\n",
       " (-3.0, -2.0]       0.003732\n",
       " (-2.0, -1.0]       0.013737\n",
       " (-1.0, 0.0]        0.960452\n",
       " (0.0, 1.0]         0.005019\n",
       " (1.0, 2.0]         0.003406\n",
       " (2.0, 3.0]         0.002249\n",
       " (3.0, 4.0]         0.001336\n",
       " (4.0, 5.0]         0.000831\n",
       " (5.0, 6.0]         0.000505\n",
       " (6.0, 7.0]         0.000342\n",
       " (7.0, 8.0]         0.000293\n",
       " (8.0, 9.0]         0.000212\n",
       " (9.0, 10.0]        0.000163\n",
       " Name: 4009460_diff, dtype: float64)"
      ]
     },
     "execution_count": 61,
     "metadata": {},
     "output_type": "execute_result"
    }
   ],
   "source": [
    "obs_gpm_diff_df[st_code].value_counts(bins=bins_detail).sort_index(), obs_gpm_diff_df[st_code].value_counts(bins=bins_detail, normalize=True).sort_index()"
   ]
  },
  {
   "cell_type": "code",
   "execution_count": 62,
   "id": "8d695e97",
   "metadata": {},
   "outputs": [
    {
     "data": {
      "text/plain": [
       "<AxesSubplot:>"
      ]
     },
     "execution_count": 62,
     "metadata": {},
     "output_type": "execute_result"
    },
    {
     "data": {
      "image/png": "[encoded data removed]",
      "text/plain": [
       "<Figure size 1080x360 with 1 Axes>"
      ]
     },
     "metadata": {},
     "output_type": "display_data"
    }
   ],
   "source": [
    "obs_gpm_diff_df[st_code].hist(bins=bins_detail, figsize=(15,5))"
   ]
  },
  {
   "cell_type": "code",
   "execution_count": null,
   "id": "3c50e74c",
   "metadata": {},
   "outputs": [],
   "source": []
  },
  {
   "cell_type": "markdown",
   "id": "702583ff",
   "metadata": {},
   "source": [
    "### 2.10 \"9000140\" 강우관측소"
   ]
  },
  {
   "cell_type": "markdown",
   "id": "2f8e4c77",
   "metadata": {},
   "source": [
    "#### Violin Plot을 활용하여 [GPM관측 데이터 - 지상관측] 데이터의 분포특성 (Min, Max, 분포 등) 분석"
   ]
  },
  {
   "cell_type": "code",
   "execution_count": 63,
   "id": "980a21ca",
   "metadata": {},
   "outputs": [
    {
     "data": {
      "image/png": "[encoded data removed]",
      "text/plain": [
       "<Figure size 720x576 with 1 Axes>"
      ]
     },
     "metadata": {},
     "output_type": "display_data"
    }
   ],
   "source": [
    "st_code = obs_gpm_diff_df.columns[9]\n",
    "sns.violinplot(y=obs_gpm_diff_df[st_code])\n",
    "plt.ylim(-100, 100)\n",
    "plt.yticks(fontsize=12)\n",
    "plt.ylabel('Difference = IMERG Observation (mm/h) - Station Observation (mm/h)', fontsize=12)\n",
    "plt.show()"
   ]
  },
  {
   "cell_type": "markdown",
   "id": "778e8b96",
   "metadata": {},
   "source": [
    "#### 데이터 차이의 Min ~ Max를 고려하여 데이터로 분포 파악"
   ]
  },
  {
   "cell_type": "code",
   "execution_count": 64,
   "id": "ca18dc4f",
   "metadata": {},
   "outputs": [
    {
     "data": {
      "text/plain": [
       "[-50, -40, -30, -20, -10, 0, 10, 20, 30, 40, 50]"
      ]
     },
     "execution_count": 64,
     "metadata": {},
     "output_type": "execute_result"
    }
   ],
   "source": [
    "bins = list(range(-50, 60, 10))\n",
    "bins"
   ]
  },
  {
   "cell_type": "code",
   "execution_count": 65,
   "id": "4c2dd7bf",
   "metadata": {},
   "outputs": [
    {
     "data": {
      "text/plain": [
       "((-50.001, -40.0]        2\n",
       " (-40.0, -30.0]          6\n",
       " (-30.0, -20.0]         27\n",
       " (-20.0, -10.0]         66\n",
       " (-10.0, 0.0]        60344\n",
       " (0.0, 10.0]           887\n",
       " (10.0, 20.0]           27\n",
       " (20.0, 30.0]            6\n",
       " (30.0, 40.0]            3\n",
       " (40.0, 50.0]            0\n",
       " Name: 9000140_diff, dtype: int64,\n",
       " (-50.001, -40.0]    0.000033\n",
       " (-40.0, -30.0]      0.000098\n",
       " (-30.0, -20.0]      0.000440\n",
       " (-20.0, -10.0]      0.001075\n",
       " (-10.0, 0.0]        0.983314\n",
       " (0.0, 10.0]         0.014454\n",
       " (10.0, 20.0]        0.000440\n",
       " (20.0, 30.0]        0.000098\n",
       " (30.0, 40.0]        0.000049\n",
       " (40.0, 50.0]        0.000000\n",
       " Name: 9000140_diff, dtype: float64)"
      ]
     },
     "execution_count": 65,
     "metadata": {},
     "output_type": "execute_result"
    }
   ],
   "source": [
    "obs_gpm_diff_df[st_code].value_counts(bins=bins).sort_index(), obs_gpm_diff_df[st_code].value_counts(bins=bins, normalize=True).sort_index()"
   ]
  },
  {
   "cell_type": "markdown",
   "id": "bfa6ecd0",
   "metadata": {},
   "source": [
    "#### 데이터 주로 분포하고 있는 -10~10사이의 분포 파악"
   ]
  },
  {
   "cell_type": "code",
   "execution_count": 66,
   "id": "7fcb6f8d",
   "metadata": {},
   "outputs": [
    {
     "data": {
      "text/plain": [
       "[-10, -9, -8, -7, -6, -5, -4, -3, -2, -1, 0, 1, 2, 3, 4, 5, 6, 7, 8, 9, 10]"
      ]
     },
     "execution_count": 66,
     "metadata": {},
     "output_type": "execute_result"
    }
   ],
   "source": [
    "bins_detail = list(range(-10, 11, 1))\n",
    "bins_detail"
   ]
  },
  {
   "cell_type": "code",
   "execution_count": 67,
   "id": "555ebbc2",
   "metadata": {},
   "outputs": [
    {
     "data": {
      "text/plain": [
       "((-10.001, -9.0]       19\n",
       " (-9.0, -8.0]          21\n",
       " (-8.0, -7.0]          31\n",
       " (-7.0, -6.0]          39\n",
       " (-6.0, -5.0]          64\n",
       " (-5.0, -4.0]          72\n",
       " (-4.0, -3.0]         138\n",
       " (-3.0, -2.0]         280\n",
       " (-2.0, -1.0]         932\n",
       " (-1.0, 0.0]        58751\n",
       " (0.0, 1.0]           308\n",
       " (1.0, 2.0]           221\n",
       " (2.0, 3.0]           130\n",
       " (3.0, 4.0]            81\n",
       " (4.0, 5.0]            47\n",
       " (5.0, 6.0]            31\n",
       " (6.0, 7.0]            21\n",
       " (7.0, 8.0]            21\n",
       " (8.0, 9.0]            13\n",
       " (9.0, 10.0]           14\n",
       " Name: 9000140_diff, dtype: int64,\n",
       " (-10.001, -9.0]    0.000310\n",
       " (-9.0, -8.0]       0.000342\n",
       " (-8.0, -7.0]       0.000505\n",
       " (-7.0, -6.0]       0.000636\n",
       " (-6.0, -5.0]       0.001043\n",
       " (-5.0, -4.0]       0.001173\n",
       " (-4.0, -3.0]       0.002249\n",
       " (-3.0, -2.0]       0.004563\n",
       " (-2.0, -1.0]       0.015187\n",
       " (-1.0, 0.0]        0.957356\n",
       " (0.0, 1.0]         0.005019\n",
       " (1.0, 2.0]         0.003601\n",
       " (2.0, 3.0]         0.002118\n",
       " (3.0, 4.0]         0.001320\n",
       " (4.0, 5.0]         0.000766\n",
       " (5.0, 6.0]         0.000505\n",
       " (6.0, 7.0]         0.000342\n",
       " (7.0, 8.0]         0.000342\n",
       " (8.0, 9.0]         0.000212\n",
       " (9.0, 10.0]        0.000228\n",
       " Name: 9000140_diff, dtype: float64)"
      ]
     },
     "execution_count": 67,
     "metadata": {},
     "output_type": "execute_result"
    }
   ],
   "source": [
    "obs_gpm_diff_df[st_code].value_counts(bins=bins_detail).sort_index(), obs_gpm_diff_df[st_code].value_counts(bins=bins_detail, normalize=True).sort_index()"
   ]
  },
  {
   "cell_type": "code",
   "execution_count": 68,
   "id": "fb9f71ed",
   "metadata": {},
   "outputs": [
    {
     "data": {
      "text/plain": [
       "<AxesSubplot:>"
      ]
     },
     "execution_count": 68,
     "metadata": {},
     "output_type": "execute_result"
    },
    {
     "data": {
      "image/png": "[encoded data removed]",
      "text/plain": [
       "<Figure size 1080x360 with 1 Axes>"
      ]
     },
     "metadata": {},
     "output_type": "display_data"
    }
   ],
   "source": [
    "obs_gpm_diff_df[st_code].hist(bins=bins_detail, figsize=(15,5))"
   ]
  },
  {
   "cell_type": "code",
   "execution_count": null,
   "id": "cd19b456",
   "metadata": {},
   "outputs": [],
   "source": []
  },
  {
   "cell_type": "markdown",
   "id": "fd2a1fa2",
   "metadata": {},
   "source": [
    "### 2.11 \"9000233\" 강우관측소"
   ]
  },
  {
   "cell_type": "markdown",
   "id": "f98b81b0",
   "metadata": {},
   "source": [
    "#### Violin Plot을 활용하여 [GPM관측 데이터 - 지상관측] 데이터의 분포특성 (Min, Max, 분포 등) 분석"
   ]
  },
  {
   "cell_type": "code",
   "execution_count": 69,
   "id": "56264450",
   "metadata": {},
   "outputs": [
    {
     "data": {
      "image/png": "[encoded data removed]",
      "text/plain": [
       "<Figure size 720x576 with 1 Axes>"
      ]
     },
     "metadata": {},
     "output_type": "display_data"
    }
   ],
   "source": [
    "st_code = obs_gpm_diff_df.columns[10]\n",
    "sns.violinplot(y=obs_gpm_diff_df[st_code])\n",
    "plt.ylim(-100, 100)\n",
    "plt.yticks(fontsize=12)\n",
    "plt.ylabel('Difference = IMERG Observation (mm/h) - Station Observation (mm/h)', fontsize=12)\n",
    "plt.show()"
   ]
  },
  {
   "cell_type": "markdown",
   "id": "1130e4a3",
   "metadata": {},
   "source": [
    "#### 데이터 차이의 Min ~ Max를 고려하여 데이터로 분포 파악"
   ]
  },
  {
   "cell_type": "code",
   "execution_count": 70,
   "id": "627e5521",
   "metadata": {},
   "outputs": [
    {
     "data": {
      "text/plain": [
       "[-60, -50, -40, -30, -20, -10, 0, 10, 20, 30, 40]"
      ]
     },
     "execution_count": 70,
     "metadata": {},
     "output_type": "execute_result"
    }
   ],
   "source": [
    "bins = list(range(-60, 50, 10))\n",
    "bins"
   ]
  },
  {
   "cell_type": "code",
   "execution_count": 71,
   "id": "8665e5b0",
   "metadata": {},
   "outputs": [
    {
     "data": {
      "text/plain": [
       "((-60.001, -50.0]        2\n",
       " (-50.0, -40.0]          0\n",
       " (-40.0, -30.0]          6\n",
       " (-30.0, -20.0]         18\n",
       " (-20.0, -10.0]         83\n",
       " (-10.0, 0.0]        60375\n",
       " (0.0, 10.0]           842\n",
       " (10.0, 20.0]           38\n",
       " (20.0, 30.0]            3\n",
       " (30.0, 40.0]            1\n",
       " Name: 9000233_diff, dtype: int64,\n",
       " (-60.001, -50.0]    0.000033\n",
       " (-50.0, -40.0]      0.000000\n",
       " (-40.0, -30.0]      0.000098\n",
       " (-30.0, -20.0]      0.000293\n",
       " (-20.0, -10.0]      0.001352\n",
       " (-10.0, 0.0]        0.983819\n",
       " (0.0, 10.0]         0.013721\n",
       " (10.0, 20.0]        0.000619\n",
       " (20.0, 30.0]        0.000049\n",
       " (30.0, 40.0]        0.000016\n",
       " Name: 9000233_diff, dtype: float64)"
      ]
     },
     "execution_count": 71,
     "metadata": {},
     "output_type": "execute_result"
    }
   ],
   "source": [
    "obs_gpm_diff_df[st_code].value_counts(bins=bins).sort_index(), obs_gpm_diff_df[st_code].value_counts(bins=bins, normalize=True).sort_index()"
   ]
  },
  {
   "cell_type": "markdown",
   "id": "247d228a",
   "metadata": {},
   "source": [
    "#### 데이터 주로 분포하고 있는 -10~10사이의 분포 파악"
   ]
  },
  {
   "cell_type": "code",
   "execution_count": 72,
   "id": "3a268f9a",
   "metadata": {},
   "outputs": [
    {
     "data": {
      "text/plain": [
       "[-10, -9, -8, -7, -6, -5, -4, -3, -2, -1, 0, 1, 2, 3, 4, 5, 6, 7, 8, 9, 10]"
      ]
     },
     "execution_count": 72,
     "metadata": {},
     "output_type": "execute_result"
    }
   ],
   "source": [
    "bins_detail = list(range(-10, 11, 1))\n",
    "bins_detail"
   ]
  },
  {
   "cell_type": "code",
   "execution_count": 73,
   "id": "1a8a880a",
   "metadata": {},
   "outputs": [
    {
     "data": {
      "text/plain": [
       "((-10.001, -9.0]       24\n",
       " (-9.0, -8.0]          21\n",
       " (-8.0, -7.0]          36\n",
       " (-7.0, -6.0]          42\n",
       " (-6.0, -5.0]          58\n",
       " (-5.0, -4.0]          97\n",
       " (-4.0, -3.0]         152\n",
       " (-3.0, -2.0]         261\n",
       " (-2.0, -1.0]         943\n",
       " (-1.0, 0.0]        58743\n",
       " (0.0, 1.0]           307\n",
       " (1.0, 2.0]           206\n",
       " (2.0, 3.0]           119\n",
       " (3.0, 4.0]            78\n",
       " (4.0, 5.0]            52\n",
       " (5.0, 6.0]            22\n",
       " (6.0, 7.0]            17\n",
       " (7.0, 8.0]            19\n",
       " (8.0, 9.0]            18\n",
       " (9.0, 10.0]            4\n",
       " Name: 9000233_diff, dtype: int64,\n",
       " (-10.001, -9.0]    0.000391\n",
       " (-9.0, -8.0]       0.000342\n",
       " (-8.0, -7.0]       0.000587\n",
       " (-7.0, -6.0]       0.000684\n",
       " (-6.0, -5.0]       0.000945\n",
       " (-5.0, -4.0]       0.001581\n",
       " (-4.0, -3.0]       0.002477\n",
       " (-3.0, -2.0]       0.004253\n",
       " (-2.0, -1.0]       0.015366\n",
       " (-1.0, 0.0]        0.957225\n",
       " (0.0, 1.0]         0.005003\n",
       " (1.0, 2.0]         0.003357\n",
       " (2.0, 3.0]         0.001939\n",
       " (3.0, 4.0]         0.001271\n",
       " (4.0, 5.0]         0.000847\n",
       " (5.0, 6.0]         0.000358\n",
       " (6.0, 7.0]         0.000277\n",
       " (7.0, 8.0]         0.000310\n",
       " (8.0, 9.0]         0.000293\n",
       " (9.0, 10.0]        0.000065\n",
       " Name: 9000233_diff, dtype: float64)"
      ]
     },
     "execution_count": 73,
     "metadata": {},
     "output_type": "execute_result"
    }
   ],
   "source": [
    "obs_gpm_diff_df[st_code].value_counts(bins=bins_detail).sort_index(), obs_gpm_diff_df[st_code].value_counts(bins=bins_detail, normalize=True).sort_index()"
   ]
  },
  {
   "cell_type": "code",
   "execution_count": 74,
   "id": "7efbc69b",
   "metadata": {},
   "outputs": [
    {
     "data": {
      "text/plain": [
       "<AxesSubplot:>"
      ]
     },
     "execution_count": 74,
     "metadata": {},
     "output_type": "execute_result"
    },
    {
     "data": {
      "image/png": "[encoded data removed]",
      "text/plain": [
       "<Figure size 1080x360 with 1 Axes>"
      ]
     },
     "metadata": {},
     "output_type": "display_data"
    }
   ],
   "source": [
    "obs_gpm_diff_df[st_code].hist(bins=bins_detail, figsize=(15,5))"
   ]
  },
  {
   "cell_type": "code",
   "execution_count": null,
   "id": "4c4b1320",
   "metadata": {},
   "outputs": [],
   "source": []
  },
  {
   "cell_type": "markdown",
   "id": "e78a158a",
   "metadata": {},
   "source": [
    "### 2.12 \"9000234\" 강우관측소"
   ]
  },
  {
   "cell_type": "markdown",
   "id": "99d42e9c",
   "metadata": {},
   "source": [
    "#### Violin Plot을 활용하여 [GPM관측 데이터 - 지상관측] 데이터의 분포특성 (Min, Max, 분포 등) 분석"
   ]
  },
  {
   "cell_type": "code",
   "execution_count": 75,
   "id": "2c21d257",
   "metadata": {},
   "outputs": [
    {
     "data": {
      "image/png": "[encoded data removed]",
      "text/plain": [
       "<Figure size 720x576 with 1 Axes>"
      ]
     },
     "metadata": {},
     "output_type": "display_data"
    }
   ],
   "source": [
    "st_code = obs_gpm_diff_df.columns[11]\n",
    "sns.violinplot(y=obs_gpm_diff_df[st_code])\n",
    "plt.ylim(-100, 100)\n",
    "plt.yticks(fontsize=12)\n",
    "plt.ylabel('Difference = IMERG Observation (mm/h) - Station Observation (mm/h)', fontsize=12)\n",
    "plt.show()"
   ]
  },
  {
   "cell_type": "markdown",
   "id": "a2bf6ad2",
   "metadata": {},
   "source": [
    "#### 데이터 차이의 Min ~ Max를 고려하여 데이터로 분포 파악"
   ]
  },
  {
   "cell_type": "code",
   "execution_count": 76,
   "id": "ce790c9e",
   "metadata": {},
   "outputs": [
    {
     "data": {
      "text/plain": [
       "[-70, -60, -50, -40, -30, -20, -10, 0, 10, 20, 30, 40]"
      ]
     },
     "execution_count": 76,
     "metadata": {},
     "output_type": "execute_result"
    }
   ],
   "source": [
    "bins = list(range(-70, 50, 10))\n",
    "bins"
   ]
  },
  {
   "cell_type": "code",
   "execution_count": 77,
   "id": "e8bd5982",
   "metadata": {},
   "outputs": [
    {
     "data": {
      "text/plain": [
       "((-70.001, -60.0]        3\n",
       " (-60.0, -50.0]          0\n",
       " (-50.0, -40.0]          4\n",
       " (-40.0, -30.0]          4\n",
       " (-30.0, -20.0]         17\n",
       " (-20.0, -10.0]         81\n",
       " (-10.0, 0.0]        60362\n",
       " (0.0, 10.0]           863\n",
       " (10.0, 20.0]           28\n",
       " (20.0, 30.0]            5\n",
       " (30.0, 40.0]            1\n",
       " Name: 9000234_diff, dtype: int64,\n",
       " (-70.001, -60.0]    0.000049\n",
       " (-60.0, -50.0]      0.000000\n",
       " (-50.0, -40.0]      0.000065\n",
       " (-40.0, -30.0]      0.000065\n",
       " (-30.0, -20.0]      0.000277\n",
       " (-20.0, -10.0]      0.001320\n",
       " (-10.0, 0.0]        0.983607\n",
       " (0.0, 10.0]         0.014063\n",
       " (10.0, 20.0]        0.000456\n",
       " (20.0, 30.0]        0.000081\n",
       " (30.0, 40.0]        0.000016\n",
       " Name: 9000234_diff, dtype: float64)"
      ]
     },
     "execution_count": 77,
     "metadata": {},
     "output_type": "execute_result"
    }
   ],
   "source": [
    "obs_gpm_diff_df[st_code].value_counts(bins=bins).sort_index(), obs_gpm_diff_df[st_code].value_counts(bins=bins, normalize=True).sort_index()"
   ]
  },
  {
   "cell_type": "markdown",
   "id": "556aa852",
   "metadata": {},
   "source": [
    "#### 데이터 주로 분포하고 있는 -10~10사이의 분포 파악"
   ]
  },
  {
   "cell_type": "code",
   "execution_count": 78,
   "id": "8c193b13",
   "metadata": {},
   "outputs": [
    {
     "data": {
      "text/plain": [
       "[-10, -9, -8, -7, -6, -5, -4, -3, -2, -1, 0, 1, 2, 3, 4, 5, 6, 7, 8, 9, 10]"
      ]
     },
     "execution_count": 78,
     "metadata": {},
     "output_type": "execute_result"
    }
   ],
   "source": [
    "bins_detail = list(range(-10, 11, 1))\n",
    "bins_detail"
   ]
  },
  {
   "cell_type": "code",
   "execution_count": 79,
   "id": "6d5539d4",
   "metadata": {},
   "outputs": [
    {
     "data": {
      "text/plain": [
       "((-10.001, -9.0]       20\n",
       " (-9.0, -8.0]          25\n",
       " (-8.0, -7.0]          26\n",
       " (-7.0, -6.0]          44\n",
       " (-6.0, -5.0]          56\n",
       " (-5.0, -4.0]          86\n",
       " (-4.0, -3.0]         130\n",
       " (-3.0, -2.0]         264\n",
       " (-2.0, -1.0]         796\n",
       " (-1.0, 0.0]        58920\n",
       " (0.0, 1.0]           316\n",
       " (1.0, 2.0]           209\n",
       " (2.0, 3.0]           110\n",
       " (3.0, 4.0]            86\n",
       " (4.0, 5.0]            39\n",
       " (5.0, 6.0]            32\n",
       " (6.0, 7.0]            33\n",
       " (7.0, 8.0]            13\n",
       " (8.0, 9.0]            12\n",
       " (9.0, 10.0]           13\n",
       " Name: 9000234_diff, dtype: int64,\n",
       " (-10.001, -9.0]    0.000326\n",
       " (-9.0, -8.0]       0.000407\n",
       " (-8.0, -7.0]       0.000424\n",
       " (-7.0, -6.0]       0.000717\n",
       " (-6.0, -5.0]       0.000913\n",
       " (-5.0, -4.0]       0.001401\n",
       " (-4.0, -3.0]       0.002118\n",
       " (-3.0, -2.0]       0.004302\n",
       " (-2.0, -1.0]       0.012971\n",
       " (-1.0, 0.0]        0.960110\n",
       " (0.0, 1.0]         0.005149\n",
       " (1.0, 2.0]         0.003406\n",
       " (2.0, 3.0]         0.001792\n",
       " (3.0, 4.0]         0.001401\n",
       " (4.0, 5.0]         0.000636\n",
       " (5.0, 6.0]         0.000521\n",
       " (6.0, 7.0]         0.000538\n",
       " (7.0, 8.0]         0.000212\n",
       " (8.0, 9.0]         0.000196\n",
       " (9.0, 10.0]        0.000212\n",
       " Name: 9000234_diff, dtype: float64)"
      ]
     },
     "execution_count": 79,
     "metadata": {},
     "output_type": "execute_result"
    }
   ],
   "source": [
    "obs_gpm_diff_df[st_code].value_counts(bins=bins_detail).sort_index(), obs_gpm_diff_df[st_code].value_counts(bins=bins_detail, normalize=True).sort_index()"
   ]
  },
  {
   "cell_type": "code",
   "execution_count": 80,
   "id": "9851cd63",
   "metadata": {},
   "outputs": [
    {
     "data": {
      "text/plain": [
       "<AxesSubplot:>"
      ]
     },
     "execution_count": 80,
     "metadata": {},
     "output_type": "execute_result"
    },
    {
     "data": {
      "image/png": "[encoded data removed]",
      "text/plain": [
       "<Figure size 1080x360 with 1 Axes>"
      ]
     },
     "metadata": {},
     "output_type": "display_data"
    }
   ],
   "source": [
    "obs_gpm_diff_df[st_code].hist(bins=bins_detail, figsize=(15,5))"
   ]
  },
  {
   "cell_type": "code",
   "execution_count": null,
   "id": "af045f24",
   "metadata": {},
   "outputs": [],
   "source": []
  }
 ],
 "metadata": {
  "kernelspec": {
   "display_name": "Python 3-latest-stable",
   "language": "python",
   "name": "python3"
  },
  "language_info": {
   "codemirror_mode": {
    "name": "ipython",
    "version": 3
   },
   "file_extension": ".py",
   "mimetype": "text/x-python",
   "name": "python",
   "nbconvert_exporter": "python",
   "pygments_lexer": "ipython3",
   "version": "3.9.7"
  }
 },
 "nbformat": 4,
 "nbformat_minor": 5
}
